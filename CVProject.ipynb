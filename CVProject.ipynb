{
  "nbformat": 4,
  "nbformat_minor": 0,
  "metadata": {
    "colab": {
      "provenance": [],
      "gpuType": "T4"
    },
    "kernelspec": {
      "name": "python3",
      "display_name": "Python 3"
    },
    "language_info": {
      "name": "python"
    },
    "accelerator": "GPU"
  },
  "cells": [
    {
      "cell_type": "code",
      "execution_count": 1,
      "metadata": {
        "id": "xws7yfjPF3l3"
      },
      "outputs": [],
      "source": [
        "import os\n",
        "import torch\n",
        "import torch.utils.data as data\n",
        "from PIL import Image\n",
        "from torchvision import transforms\n",
        "import random\n",
        "\n",
        "class UncertaintyAugmentation(object):\n",
        "    \"\"\"Add uncertainty through various augmentations\"\"\"\n",
        "    def __init__(self, noise_level=0.1, occlusion_prob=0.2, blur_prob=0.2):\n",
        "        self.noise_level = noise_level\n",
        "        self.occlusion_prob = occlusion_prob\n",
        "        self.blur_prob = blur_prob\n",
        "\n",
        "    def __call__(self, sample):\n",
        "        \"\"\"Apply transformations to either a dictionary with 'image' key or directly to a PIL/tensor image\"\"\"\n",
        "        # Check if the sample is a dictionary with 'image' key or directly an image\n",
        "        if isinstance(sample, dict) and 'image' in sample:\n",
        "            image = sample['image']\n",
        "            is_dict = True\n",
        "        else:\n",
        "            image = sample\n",
        "            is_dict = False\n",
        "\n",
        "        # Convert PIL Image to tensor if needed\n",
        "        if isinstance(image, Image.Image):\n",
        "            image = transforms.ToTensor()(image)\n",
        "\n",
        "        # Add Gaussian noise\n",
        "        if random.random() < 0.5:\n",
        "            noise = torch.randn_like(image) * self.noise_level\n",
        "            image = image + noise\n",
        "            image = torch.clamp(image, 0, 1)\n",
        "\n",
        "        # Add random occlusion\n",
        "        if random.random() < self.occlusion_prob:\n",
        "            h, w = image.shape[-2:]\n",
        "\n",
        "            # Create random rectangle for occlusion\n",
        "            occlusion_width = random.randint(w // 10, w // 3)\n",
        "            occlusion_height = random.randint(h // 10, h // 3)\n",
        "            x = random.randint(0, w - occlusion_width)\n",
        "            y = random.randint(0, h - occlusion_height)\n",
        "\n",
        "            # Apply occlusion\n",
        "            image[:, y:y+occlusion_height, x:x+occlusion_width] = 0\n",
        "\n",
        "        # Add blur effect\n",
        "        if random.random() < self.blur_prob and isinstance(image, torch.Tensor):\n",
        "            # Convert to PIL for Gaussian blur\n",
        "            to_pil = transforms.ToPILImage()\n",
        "            to_tensor = transforms.ToTensor()\n",
        "\n",
        "            # Convert tensor to PIL\n",
        "            pil_image = to_pil(image)\n",
        "\n",
        "            # Apply Gaussian blur\n",
        "            blurred = transforms.GaussianBlur(kernel_size=5, sigma=(0.1, 2.0))(pil_image)\n",
        "\n",
        "            # Convert back to tensor\n",
        "            image = to_tensor(blurred)\n",
        "\n",
        "        # Return in the same format as received\n",
        "        if is_dict:\n",
        "            sample['image'] = image\n",
        "            return sample\n",
        "        else:\n",
        "            return image\n",
        "\n",
        "\n",
        "class VehicularPerceptionDataset(data.Dataset):\n",
        "    def __init__(self, root_dir, transform=None, is_training=True, num_vehicles=5, adversarial_prob=0.0):\n",
        "        \"\"\"\n",
        "        Args:\n",
        "            root_dir (string): Directory with images\n",
        "            transform (callable, optional): Optional transform to be applied on samples\n",
        "            is_training (bool): Whether this is for training or validation\n",
        "            num_vehicles (int): Number of vehicles in collaborative perception\n",
        "            adversarial_prob (float): Probability of generating adversarial samples during training\n",
        "        \"\"\"\n",
        "        self.root_dir = root_dir\n",
        "        self.is_training = is_training\n",
        "        self.num_vehicles = num_vehicles\n",
        "        self.adversarial_prob = adversarial_prob\n",
        "\n",
        "        # Define default transforms if none provided\n",
        "        if transform is None:\n",
        "            self.transform = transforms.Compose([\n",
        "                transforms.Resize((128, 128)),\n",
        "                transforms.ToTensor(),\n",
        "                transforms.Normalize(mean=[0.5, 0.5, 0.5], std=[0.5, 0.5, 0.5])\n",
        "            ])\n",
        "        else:\n",
        "            self.transform = transform\n",
        "\n",
        "        self.samples = self._load_samples()\n",
        "\n",
        "    def _load_samples(self):\n",
        "        \"\"\"Load sample paths from Google Drive image directory\"\"\"\n",
        "        samples = []\n",
        "\n",
        "        # Verify Google Drive is mounted\n",
        "        if not os.path.exists('/content/drive'):\n",
        "            # Try to mount Google Drive if not already mounted\n",
        "            try:\n",
        "                from google.colab import drive\n",
        "                drive.mount('/content/drive')\n",
        "                print(\"Google Drive mounted successfully\")\n",
        "            except:\n",
        "                raise RuntimeError(\"Failed to mount Google Drive. Please run 'from google.colab import drive; drive.mount('/content/drive')' first\")\n",
        "\n",
        "        # Check if specific directory exists in Google Drive\n",
        "        if not os.path.exists(self.root_dir):\n",
        "            raise FileNotFoundError(f\"Dataset directory {self.root_dir} not found in Google Drive\")\n",
        "\n",
        "        # Find all image files\n",
        "        valid_extensions = ['.jpg', '.jpeg', '.png', '.bmp']\n",
        "\n",
        "        try:\n",
        "            image_files = [f for f in os.listdir(self.root_dir)\n",
        "                          if os.path.isfile(os.path.join(self.root_dir, f)) and\n",
        "                          any(f.lower().endswith(ext) for ext in valid_extensions)]\n",
        "\n",
        "            print(f\"Found {len(image_files)} images in {self.root_dir}\")\n",
        "\n",
        "            # Create sample entries\n",
        "            for img_name in image_files:\n",
        "                img_path = os.path.join(self.root_dir, img_name)\n",
        "\n",
        "                # Create a simple sample entry without annotations\n",
        "                sample = {\n",
        "                    'image_path': img_path,\n",
        "                    'vehicle_id': 0,  # Main ego vehicle\n",
        "                    'frame_id': img_name.split('.')[0]  # Use filename as frame ID\n",
        "                }\n",
        "\n",
        "                samples.append(sample)\n",
        "\n",
        "        except Exception as e:\n",
        "            print(f\"Error accessing files in Google Drive: {e}\")\n",
        "            raise\n",
        "\n",
        "        return samples\n",
        "\n",
        "    def __len__(self):\n",
        "        return len(self.samples)\n",
        "\n",
        "    def __getitem__(self, idx):\n",
        "        # Load image data\n",
        "        sample_info = self.samples[idx]\n",
        "        image_path = sample_info['image_path']\n",
        "\n",
        "        try:\n",
        "            # Load the image using PIL\n",
        "            image = Image.open(image_path).convert(\"RGB\")\n",
        "\n",
        "            # Apply transformations directly to the PIL image\n",
        "            if self.transform:\n",
        "                image_tensor = self.transform(image)  # This should now work with either transform type\n",
        "            else:\n",
        "                # Default transformation if none provided\n",
        "                image_tensor = transforms.ToTensor()(image)\n",
        "\n",
        "            # Create the base sample\n",
        "            sample = {\n",
        "                'image': image_tensor,\n",
        "                'vehicle_id': sample_info['vehicle_id'],\n",
        "                'frame_id': sample_info['frame_id']\n",
        "            }\n",
        "\n",
        "            # For collaborative perception, simulate data from multiple vehicles\n",
        "            if self.num_vehicles > 1:\n",
        "                vehicle_images = [image_tensor]  # Start with the ego vehicle's image\n",
        "\n",
        "                # Generate simulated views from other vehicles\n",
        "                for v in range(1, self.num_vehicles):\n",
        "                    # Apply random transformation to simulate different viewpoint\n",
        "                    vehicle_image = self._simulate_vehicle_view(image_tensor, v)\n",
        "\n",
        "                    # Add adversarial perturbation with specified probability during training\n",
        "                    if self.is_training and random.random() < self.adversarial_prob:\n",
        "                        vehicle_image = self._apply_adversarial_perturbation(vehicle_image)\n",
        "                        sample[f'vehicle_{v}_is_adversarial'] = torch.tensor([1.0])\n",
        "                    else:\n",
        "                        sample[f'vehicle_{v}_is_adversarial'] = torch.tensor([0.0])\n",
        "\n",
        "                    vehicle_images.append(vehicle_image)\n",
        "\n",
        "                sample['vehicle_images'] = vehicle_images\n",
        "\n",
        "            return sample\n",
        "\n",
        "        except Exception as e:\n",
        "            print(f\"Error loading image {image_path}: {e}\")\n",
        "            # Return a default sample in case of error\n",
        "            return self.__getitem__((idx + 1) % len(self.samples))\n",
        "\n",
        "    def _simulate_vehicle_view(self, image_tensor, vehicle_id):\n",
        "      \"\"\"Simulate different viewpoints from other vehicles with padding\"\"\"\n",
        "      # Apply random transformations to simulate different viewpoints\n",
        "\n",
        "      # Create a random affine transformation\n",
        "      angle = random.uniform(-15, 15)\n",
        "      translate = (random.uniform(-0.1, 0.1), random.uniform(-0.1, 0.1))\n",
        "      scale = random.uniform(0.9, 1.1)\n",
        "\n",
        "      # Convert tensor back to PIL for transformation\n",
        "      to_pil = transforms.ToPILImage()\n",
        "      to_tensor = transforms.ToTensor()\n",
        "      normalize = transforms.Normalize(mean=[0.5, 0.5, 0.5], std=[0.5, 0.5, 0.5])\n",
        "\n",
        "      # If the tensor is normalized, denormalize it first\n",
        "      if image_tensor.min() < 0:\n",
        "          pil_image = to_pil(image_tensor * 0.5 + 0.5)  # Denormalize\n",
        "      else:\n",
        "          pil_image = to_pil(image_tensor)\n",
        "\n",
        "      # Create a padded image with gray background\n",
        "      width, height = pil_image.size\n",
        "      padded_image = Image.new('RGB', (int(width * 1.2), int(height * 1.2)), (128, 128, 128))\n",
        "      padded_image.paste(pil_image, (int(width * 0.1), int(height * 0.1)))\n",
        "\n",
        "      # Apply the transformation without fillcolor\n",
        "      transformed = transforms.functional.affine(\n",
        "          padded_image, angle, translate, scale, 0\n",
        "      )\n",
        "\n",
        "      # Crop back to original size\n",
        "      transformed = transforms.CenterCrop((height, width))(transformed)\n",
        "\n",
        "      # Convert back to tensor and normalize if the original was normalized\n",
        "      transformed_tensor = to_tensor(transformed)\n",
        "      if image_tensor.min() < 0:\n",
        "          transformed_tensor = normalize(transformed_tensor)\n",
        "\n",
        "      return transformed_tensor\n",
        "\n",
        "    def _apply_adversarial_perturbation(self, image_tensor, magnitude=0.1):\n",
        "        \"\"\"Apply adversarial perturbation to the image\"\"\"\n",
        "        # Simple implementation: add random noise\n",
        "        noise = torch.randn_like(image_tensor) * magnitude\n",
        "\n",
        "        # Check if tensor is normalized\n",
        "        if image_tensor.min() < 0:\n",
        "            # For normalized images (-1 to 1 range)\n",
        "            perturbed_image = image_tensor + noise\n",
        "            perturbed_image = torch.clamp(perturbed_image, -1, 1)\n",
        "        else:\n",
        "            # For standard images (0 to 1 range)\n",
        "            perturbed_image = image_tensor + noise\n",
        "            perturbed_image = torch.clamp(perturbed_image, 0, 1)\n",
        "\n",
        "        return perturbed_image"
      ]
    },
    {
      "cell_type": "code",
      "source": [
        "import torch\n",
        "import torch.nn as nn\n",
        "import torch.nn.functional as F\n",
        "import torch.optim as optim\n",
        "from torch.utils.data import DataLoader\n",
        "import numpy as np\n",
        "import matplotlib.pyplot as plt\n",
        "\n",
        "class FeatureCompressionVAE(nn.Module):\n",
        "    def __init__(self, input_channels=3, latent_dim=64):\n",
        "        super(FeatureCompressionVAE, self).__init__()\n",
        "\n",
        "        # Encoder\n",
        "        self.encoder = nn.Sequential(\n",
        "            nn.Conv2d(input_channels, 32, kernel_size=4, stride=2, padding=1),  # 64x64\n",
        "            nn.BatchNorm2d(32),\n",
        "            nn.LeakyReLU(0.2),\n",
        "            nn.Conv2d(32, 64, kernel_size=4, stride=2, padding=1),  # 32x32\n",
        "            nn.BatchNorm2d(64),\n",
        "            nn.LeakyReLU(0.2),\n",
        "            nn.Conv2d(64, 128, kernel_size=4, stride=2, padding=1),  # 16x16\n",
        "            nn.BatchNorm2d(128),\n",
        "            nn.LeakyReLU(0.2),\n",
        "            nn.Conv2d(128, 256, kernel_size=4, stride=2, padding=1),  # 8x8\n",
        "            nn.BatchNorm2d(256),\n",
        "            nn.LeakyReLU(0.2)\n",
        "        )\n",
        "\n",
        "        # Calculate flattened feature size\n",
        "        self.feature_size = 256 * 8 * 8\n",
        "\n",
        "        # Mean and variance layers\n",
        "        self.fc_mu = nn.Linear(self.feature_size, latent_dim)\n",
        "        self.fc_var = nn.Linear(self.feature_size, latent_dim)\n",
        "\n",
        "        # Decoder input\n",
        "        self.decoder_input = nn.Linear(latent_dim, self.feature_size)\n",
        "\n",
        "        # Decoder\n",
        "        self.decoder = nn.Sequential(\n",
        "            nn.ConvTranspose2d(256, 128, kernel_size=4, stride=2, padding=1),  # 16x16\n",
        "            nn.BatchNorm2d(128),\n",
        "            nn.LeakyReLU(0.2),\n",
        "            nn.ConvTranspose2d(128, 64, kernel_size=4, stride=2, padding=1),  # 32x32\n",
        "            nn.BatchNorm2d(64),\n",
        "            nn.LeakyReLU(0.2),\n",
        "            nn.ConvTranspose2d(64, 32, kernel_size=4, stride=2, padding=1),  # 64x64\n",
        "            nn.BatchNorm2d(32),\n",
        "            nn.LeakyReLU(0.2),\n",
        "            nn.ConvTranspose2d(32, input_channels, kernel_size=4, stride=2, padding=1),  # 128x128\n",
        "            nn.Tanh()  # Output normalized between -1 and 1\n",
        "        )\n",
        "\n",
        "    def encode(self, x):\n",
        "        # Encode the input\n",
        "        x = self.encoder(x)\n",
        "        x = x.view(-1, self.feature_size)\n",
        "\n",
        "        # Get latent distribution parameters\n",
        "        mu = self.fc_mu(x)\n",
        "        log_var = self.fc_var(x)\n",
        "\n",
        "        return mu, log_var\n",
        "\n",
        "    def reparameterize(self, mu, log_var):\n",
        "        # Reparameterization trick\n",
        "        std = torch.exp(0.5 * log_var)\n",
        "        eps = torch.randn_like(std)\n",
        "        z = mu + eps * std\n",
        "        return z\n",
        "\n",
        "    def decode(self, z):\n",
        "        # Decode from latent space\n",
        "        x = self.decoder_input(z)\n",
        "        x = x.view(-1, 256, 8, 8)\n",
        "        x = self.decoder(x)\n",
        "        return x\n",
        "\n",
        "    def forward(self, x):\n",
        "        # Encode\n",
        "        mu, log_var = self.encode(x)\n",
        "\n",
        "        # Get latent vector through reparameterization\n",
        "        z = self.reparameterize(mu, log_var)\n",
        "\n",
        "        # Feature selection - keep top-k features based on importance\n",
        "        importance = torch.abs(z)\n",
        "        k = int(0.7 * z.size(1))  # Keep 70% of features (adjust as needed)\n",
        "        _, indices = torch.topk(importance, k=k, dim=1)\n",
        "\n",
        "        # Create sparse latent representation - set non-top-k values to zero\n",
        "        batch_size = z.size(0)\n",
        "        z_sparse = torch.zeros_like(z)\n",
        "\n",
        "        for i in range(batch_size):\n",
        "            z_sparse[i, indices[i]] = z[i, indices[i]]\n",
        "\n",
        "        # Decode\n",
        "        reconstructed = self.decode(z_sparse)\n",
        "\n",
        "        return reconstructed, mu, log_var, z_sparse\n",
        "\n",
        "    def loss_function(self, recon_x, x, mu, log_var, kld_weight=0.005):\n",
        "        \"\"\"\n",
        "        Calculate VAE loss with reconstruction and KL divergence terms\n",
        "        \"\"\"\n",
        "        # Reconstruction loss (using MSE for image data)\n",
        "        recon_loss = F.mse_loss(recon_x, x, reduction='sum')\n",
        "\n",
        "        # KL divergence loss\n",
        "        kld_loss = -0.5 * torch.sum(1 + log_var - mu.pow(2) - log_var.exp())\n",
        "\n",
        "        # Total loss\n",
        "        loss = recon_loss + kld_weight * kld_loss\n",
        "\n",
        "        return loss, recon_loss, kld_loss"
      ],
      "metadata": {
        "id": "bdRDcrWiH6yE"
      },
      "execution_count": 2,
      "outputs": []
    },
    {
      "cell_type": "code",
      "source": [
        "import torch\n",
        "import torch.nn as nn\n",
        "import torch.nn.functional as F\n",
        "import numpy as np\n",
        "\n",
        "class DiffusionModel(nn.Module):\n",
        "    def __init__(self, feature_dim=64, timesteps=100):\n",
        "        super(DiffusionModel, self).__init__()\n",
        "        self.feature_dim = feature_dim\n",
        "        self.timesteps = timesteps\n",
        "\n",
        "        # Define noise predictor network\n",
        "        self.noise_predictor = nn.Sequential(\n",
        "            nn.Linear(feature_dim + 1, 128),  # +1 for time embedding\n",
        "            nn.SiLU(),\n",
        "            nn.Linear(128, 256),\n",
        "            nn.SiLU(),\n",
        "            nn.Linear(256, 128),\n",
        "            nn.SiLU(),\n",
        "            nn.Linear(128, feature_dim)\n",
        "        )\n",
        "\n",
        "        # Define beta schedule (noise level at each timestep)\n",
        "        self.beta = self._cosine_beta_schedule()\n",
        "        self.alpha = 1. - self.beta\n",
        "        self.alpha_cumprod = torch.cumprod(self.alpha, dim=0)\n",
        "\n",
        "    def _cosine_beta_schedule(self):\n",
        "        \"\"\"\n",
        "        Cosine beta schedule for diffusion process - smoother noise addition\n",
        "        \"\"\"\n",
        "        steps = self.timesteps + 1\n",
        "        x = torch.linspace(0, self.timesteps, steps)\n",
        "        alphas_cumprod = torch.cos(((x / self.timesteps) + 0.008) / 1.008 * torch.pi * 0.5) ** 2\n",
        "        alphas_cumprod = alphas_cumprod / alphas_cumprod[0]\n",
        "        betas = 1 - (alphas_cumprod[1:] / alphas_cumprod[:-1])\n",
        "        return torch.clip(betas, 0.0001, 0.9999)\n",
        "\n",
        "    def add_noise(self, x, t):\n",
        "        \"\"\"\n",
        "        Add noise to features based on diffusion process at timestep t\n",
        "        \"\"\"\n",
        "        # Get noise scaling for timestep t\n",
        "        # Move alpha_cumprod to the same device as t\n",
        "        a_t = self.alpha_cumprod.to(t.device)[t]\n",
        "\n",
        "        # Expand dimensions for proper broadcasting\n",
        "        a_t = a_t.reshape(-1, 1)\n",
        "\n",
        "        # Generate random noise\n",
        "        noise = torch.randn_like(x)\n",
        "\n",
        "        # Apply noise based on diffusion equation: x_t = sqrt(a_t) * x_0 + sqrt(1-a_t) * ε\n",
        "        noisy_x = torch.sqrt(a_t) * x + torch.sqrt(1 - a_t) * noise\n",
        "\n",
        "        return noisy_x, noise\n",
        "\n",
        "    def forward(self, x, t):\n",
        "        \"\"\"\n",
        "        Forward pass to predict noise at timestep t\n",
        "        \"\"\"\n",
        "        # Time embedding (normalized)\n",
        "        t_emb = t.float() / self.timesteps\n",
        "        t_emb = t_emb.reshape(-1, 1)\n",
        "\n",
        "        # Concat input with time embedding\n",
        "        x_t = torch.cat([x, t_emb], dim=1)\n",
        "\n",
        "        # Predict noise\n",
        "        predicted_noise = self.noise_predictor(x_t)\n",
        "\n",
        "        return predicted_noise\n",
        "\n",
        "    def sample(self, shape, device, steps=None):\n",
        "        \"\"\"\n",
        "        Generate new features from noise using reverse diffusion\n",
        "        \"\"\"\n",
        "        if steps is None:\n",
        "            steps = self.timesteps\n",
        "\n",
        "        # Start from pure noise\n",
        "        x = torch.randn(shape).to(device)\n",
        "\n",
        "        # Reverse diffusion process (denoise step by step)\n",
        "        for t in range(steps - 1, -1, -1):\n",
        "            t_tensor = torch.full((shape[0],), t, device=device, dtype=torch.long)\n",
        "\n",
        "            # No gradient needed for sampling\n",
        "            with torch.no_grad():\n",
        "                # Get current time step beta\n",
        "                beta_t = self.beta[t]\n",
        "\n",
        "                # Predict noise\n",
        "                predicted_noise = self.forward(x, t_tensor)\n",
        "\n",
        "                # No noise for final step\n",
        "                if t > 0:\n",
        "                    noise = torch.randn_like(x)\n",
        "                else:\n",
        "                    noise = 0\n",
        "\n",
        "                # Update x based on reverse diffusion equation\n",
        "                x = (1 / torch.sqrt(1 - beta_t)) * (x - (beta_t / torch.sqrt(1 - self.alpha_cumprod[t])) * predicted_noise) + torch.sqrt(beta_t) * noise\n",
        "\n",
        "        return x"
      ],
      "metadata": {
        "id": "inkfjsFaH9jC"
      },
      "execution_count": 3,
      "outputs": []
    },
    {
      "cell_type": "code",
      "source": [
        "import torch\n",
        "import torch.optim as optim\n",
        "from torch.utils.data import DataLoader\n",
        "import numpy as np\n",
        "import os\n",
        "import time\n",
        "from tqdm import tqdm\n",
        "import matplotlib.pyplot as plt\n",
        "from torch.utils.tensorboard import SummaryWriter\n",
        "\n",
        "# Import the models and dataset\n",
        "# Make sure these classes are defined in your project\n",
        "# from models.feature_compression import FeatureCompressionVAE\n",
        "# from models.diffusion import DiffusionModel\n",
        "# from data.dataset import VehicularPerceptionDataset, UncertaintyAugmentation\n",
        "\n",
        "def train_adversarial_defense_system():\n",
        "    \"\"\"\n",
        "    Complete training function for the adversarial defense system\n",
        "    \"\"\"\n",
        "    # Configuration\n",
        "    class Config:\n",
        "        # Paths\n",
        "        data_dir = '/content/drive/MyDrive/CVProject/'\n",
        "        output_dir = '/content/drive/MyDrive/CVProject/output/'\n",
        "\n",
        "        # Model parameters\n",
        "        input_channels = 3\n",
        "        image_size = 128\n",
        "        latent_dim = 64\n",
        "        num_vehicles = 5\n",
        "        diffusion_timesteps = 100\n",
        "\n",
        "        # Training parameters\n",
        "        batch_size = 8\n",
        "        num_workers = 2\n",
        "        num_epochs = 50\n",
        "        lr = 1e-4\n",
        "        beta1 = 0.9\n",
        "        beta2 = 0.999\n",
        "\n",
        "        # Loss parameters\n",
        "        kld_weight = 0.005  # Weight for KL divergence in VAE loss\n",
        "\n",
        "        # Adversarial parameters\n",
        "        adversarial_prob = 0.3  # Probability of generating adversarial samples\n",
        "        adversarial_magnitude = 0.2  # Magnitude of adversarial perturbation\n",
        "\n",
        "        # Save parameters\n",
        "        save_interval = 5  # Save checkpoint every N epochs\n",
        "\n",
        "        # Device settings\n",
        "        device = torch.device('cuda' if torch.cuda.is_available() else 'cpu')\n",
        "\n",
        "        # Set random seed for reproducibility\n",
        "        seed = 42\n",
        "\n",
        "    config = Config()\n",
        "\n",
        "    # Create output directory if it doesn't exist\n",
        "    os.makedirs(config.output_dir, exist_ok=True)\n",
        "    os.makedirs(os.path.join(config.output_dir, 'logs'), exist_ok=True)\n",
        "\n",
        "    # Set random seeds for reproducibility\n",
        "    torch.manual_seed(config.seed)\n",
        "    np.random.seed(config.seed)\n",
        "    if torch.cuda.is_available():\n",
        "        torch.cuda.manual_seed(config.seed)\n",
        "\n",
        "    print(f\"Using device: {config.device}\")\n",
        "\n",
        "    # Initialize tensorboard for tracking\n",
        "    writer = SummaryWriter(log_dir=os.path.join(config.output_dir, 'logs'))\n",
        "\n",
        "    # Create dataset and dataloader\n",
        "    # First define the transformations\n",
        "    transform = transforms.Compose([\n",
        "        transforms.Resize((config.image_size, config.image_size)),\n",
        "        transforms.ToTensor(),\n",
        "        transforms.Normalize(mean=[0.5, 0.5, 0.5], std=[0.5, 0.5, 0.5]),\n",
        "        UncertaintyAugmentation(noise_level=0.1, occlusion_prob=0.2, blur_prob=0.2)\n",
        "    ])\n",
        "\n",
        "    # Create dataset\n",
        "    dataset = VehicularPerceptionDataset(\n",
        "        root_dir=config.data_dir,\n",
        "        transform=transform,\n",
        "        is_training=True,\n",
        "        num_vehicles=config.num_vehicles,\n",
        "        adversarial_prob=config.adversarial_prob\n",
        "    )\n",
        "\n",
        "    # Create dataloader\n",
        "    dataloader = DataLoader(\n",
        "        dataset,\n",
        "        batch_size=config.batch_size,\n",
        "        shuffle=True,\n",
        "        num_workers=config.num_workers,\n",
        "        drop_last=True\n",
        "    )\n",
        "\n",
        "    print(f\"Dataset created with {len(dataset)} images, {config.num_vehicles} simulated vehicles\")\n",
        "\n",
        "    # Initialize models\n",
        "    # 1. Variational Autoencoder for feature compression\n",
        "    vae = FeatureCompressionVAE(\n",
        "        input_channels=config.input_channels,\n",
        "        latent_dim=config.latent_dim\n",
        "    ).to(config.device)\n",
        "\n",
        "    # 2. Diffusion model for uncertainty modeling\n",
        "    diffusion = DiffusionModel(\n",
        "        feature_dim=config.latent_dim,\n",
        "        timesteps=config.diffusion_timesteps\n",
        "    ).to(config.device)\n",
        "\n",
        "    # Initialize optimizers\n",
        "    vae_optimizer = optim.Adam(\n",
        "        vae.parameters(),\n",
        "        lr=config.lr,\n",
        "        betas=(config.beta1, config.beta2)\n",
        "    )\n",
        "\n",
        "    diffusion_optimizer = optim.Adam(\n",
        "        diffusion.parameters(),\n",
        "        lr=config.lr,\n",
        "        betas=(config.beta1, config.beta2)\n",
        "    )\n",
        "\n",
        "    # Create learning rate schedulers (optional but helpful)\n",
        "    vae_scheduler = optim.lr_scheduler.StepLR(vae_optimizer, step_size=10, gamma=0.5)\n",
        "    diffusion_scheduler = optim.lr_scheduler.StepLR(diffusion_optimizer, step_size=10, gamma=0.5)\n",
        "\n",
        "    # Training loop\n",
        "    print(\"Starting training...\")\n",
        "    global_step = 0\n",
        "    best_loss = float('inf')\n",
        "\n",
        "    for epoch in range(config.num_epochs):\n",
        "        vae.train()\n",
        "        diffusion.train()\n",
        "\n",
        "        # Track losses for this epoch\n",
        "        epoch_vae_loss = 0.0\n",
        "        epoch_diffusion_loss = 0.0\n",
        "        epoch_recon_loss = 0.0\n",
        "        epoch_kld_loss = 0.0\n",
        "\n",
        "        start_time = time.time()\n",
        "\n",
        "        # Process each batch\n",
        "        progress_bar = tqdm(dataloader, desc=f\"Epoch {epoch+1}/{config.num_epochs}\")\n",
        "\n",
        "        for batch_idx, batch in enumerate(progress_bar):\n",
        "            # Process vehicle images\n",
        "            if 'vehicle_images' in batch:\n",
        "                # Get all vehicle images\n",
        "                all_vehicle_images = batch['vehicle_images']\n",
        "                batch_size = all_vehicle_images[0].shape[0]\n",
        "\n",
        "                # Move to device (GPU if available)\n",
        "                vehicle_images = [img.to(config.device) for img in all_vehicle_images]\n",
        "\n",
        "                # 1. Train VAE with ego vehicle images (clean reference)\n",
        "                vae_optimizer.zero_grad()\n",
        "\n",
        "                # Forward pass through VAE\n",
        "                ego_images = vehicle_images[0]  # Main vehicle (non-adversarial)\n",
        "                recon_images, mu, log_var, z_sparse = vae(ego_images)\n",
        "\n",
        "                # Calculate VAE loss components\n",
        "                vae_loss, recon_loss, kld_loss = vae.loss_function(\n",
        "                    recon_images, ego_images, mu, log_var, kld_weight=config.kld_weight\n",
        "                )\n",
        "\n",
        "                # Backward pass and optimize VAE\n",
        "                vae_loss.backward()\n",
        "                vae_optimizer.step()\n",
        "\n",
        "                # 2. Train Diffusion model with latent vectors\n",
        "                diffusion_optimizer.zero_grad()\n",
        "\n",
        "                # Sample random timestep\n",
        "                t = torch.randint(0, config.diffusion_timesteps, (batch_size,), device=config.device)\n",
        "\n",
        "                # Add noise to latent vector according to timestep\n",
        "                noisy_z, noise = diffusion.add_noise(z_sparse.detach(), t)\n",
        "\n",
        "                # Predict noise with diffusion model\n",
        "                predicted_noise = diffusion(noisy_z, t)\n",
        "\n",
        "                # Calculate diffusion loss (noise prediction MSE)\n",
        "                diffusion_loss = torch.nn.functional.mse_loss(predicted_noise, noise)\n",
        "\n",
        "                # Backward pass and optimize diffusion model\n",
        "                diffusion_loss.backward()\n",
        "                diffusion_optimizer.step()\n",
        "\n",
        "                # Track losses\n",
        "                epoch_vae_loss += vae_loss.item()\n",
        "                epoch_recon_loss += recon_loss.item()\n",
        "                epoch_kld_loss += kld_loss.item()\n",
        "                epoch_diffusion_loss += diffusion_loss.item()\n",
        "\n",
        "                # Update progress bar\n",
        "                progress_bar.set_postfix({\n",
        "                    'VAE Loss': f\"{vae_loss.item():.4f}\",\n",
        "                    'Diff Loss': f\"{diffusion_loss.item():.4f}\"\n",
        "                })\n",
        "\n",
        "                # Log metrics to tensorboard\n",
        "                writer.add_scalar('Loss/VAE_Total', vae_loss.item(), global_step)\n",
        "                writer.add_scalar('Loss/VAE_Reconstruction', recon_loss.item(), global_step)\n",
        "                writer.add_scalar('Loss/VAE_KLD', kld_loss.item(), global_step)\n",
        "                writer.add_scalar('Loss/Diffusion', diffusion_loss.item(), global_step)\n",
        "\n",
        "                # Visualize reconstructions periodically\n",
        "                if global_step % 100 == 0:\n",
        "                    with torch.no_grad():\n",
        "                        # Get original and reconstructed images\n",
        "                        orig_imgs = ego_images[:4].detach().cpu()\n",
        "                        recon_imgs = recon_images[:4].detach().cpu()\n",
        "\n",
        "                        # Create grid with original and reconstructed\n",
        "                        comparison = torch.cat([orig_imgs, recon_imgs], dim=0)\n",
        "\n",
        "                        # Convert from [-1,1] to [0,1] for visualization\n",
        "                        comparison = (comparison + 1) / 2\n",
        "\n",
        "                        # Add to tensorboard\n",
        "                        writer.add_images('Images/Reconstruction', comparison, global_step)\n",
        "\n",
        "                        # If we've trained enough, generate samples from the diffusion model\n",
        "                        if epoch > 5:  # Wait until diffusion model has learned something\n",
        "                            try:\n",
        "                                # Sample latent vectors from the diffusion model\n",
        "                                sampled_z = diffusion.sample(\n",
        "                                    shape=(4, config.latent_dim),\n",
        "                                    device=config.device,\n",
        "                                    steps=50  # Use fewer steps for visualization\n",
        "                                )\n",
        "\n",
        "                                # Decode the sampled latent vectors\n",
        "                                sampled_images = vae.decode(sampled_z)\n",
        "\n",
        "                                # Convert from [-1,1] to [0,1] for visualization\n",
        "                                sampled_images = (sampled_images + 1) / 2\n",
        "\n",
        "                                # Add to tensorboard\n",
        "                                writer.add_images('Images/Generated', sampled_images, global_step)\n",
        "                            except Exception as e:\n",
        "                                print(f\"Error generating samples: {e}\")\n",
        "\n",
        "                global_step += 1\n",
        "            else:\n",
        "                print(\"Warning: Batch does not contain 'vehicle_images' key\")\n",
        "\n",
        "        # Update learning rate schedulers\n",
        "        vae_scheduler.step()\n",
        "        diffusion_scheduler.step()\n",
        "\n",
        "        # Calculate average losses for the epoch\n",
        "        avg_vae_loss = epoch_vae_loss / len(dataloader)\n",
        "        avg_recon_loss = epoch_recon_loss / len(dataloader)\n",
        "        avg_kld_loss = epoch_kld_loss / len(dataloader)\n",
        "        avg_diffusion_loss = epoch_diffusion_loss / len(dataloader)\n",
        "\n",
        "        epoch_time = time.time() - start_time\n",
        "\n",
        "        # Print epoch summary\n",
        "        print(f\"\\nEpoch {epoch+1}/{config.num_epochs} completed in {epoch_time:.2f}s\")\n",
        "        print(f\"VAE Loss: {avg_vae_loss:.4f} (Recon: {avg_recon_loss:.4f}, KLD: {avg_kld_loss:.4f})\")\n",
        "        print(f\"Diffusion Loss: {avg_diffusion_loss:.4f}\")\n",
        "\n",
        "        # Save model checkpoint if it's the best so far\n",
        "        if avg_vae_loss + avg_diffusion_loss < best_loss:\n",
        "            best_loss = avg_vae_loss + avg_diffusion_loss\n",
        "\n",
        "            # Save best model\n",
        "            torch.save({\n",
        "                'epoch': epoch,\n",
        "                'vae_state_dict': vae.state_dict(),\n",
        "                'diffusion_state_dict': diffusion.state_dict(),\n",
        "                'vae_optimizer': vae_optimizer.state_dict(),\n",
        "                'diffusion_optimizer': diffusion_optimizer.state_dict(),\n",
        "                'loss': best_loss,\n",
        "            }, os.path.join(config.output_dir, 'best_model.pt'))\n",
        "\n",
        "            print(f\"✅ Saved best model checkpoint with loss: {best_loss:.4f}\")\n",
        "\n",
        "        # Save regular checkpoint at intervals\n",
        "        if (epoch + 1) % config.save_interval == 0:\n",
        "            torch.save({\n",
        "                'epoch': epoch,\n",
        "                'vae_state_dict': vae.state_dict(),\n",
        "                'diffusion_state_dict': diffusion.state_dict(),\n",
        "                'vae_optimizer': vae_optimizer.state_dict(),\n",
        "                'diffusion_optimizer': diffusion_optimizer.state_dict(),\n",
        "            }, os.path.join(config.output_dir, f'checkpoint_epoch_{epoch+1}.pt'))\n",
        "\n",
        "            print(f\"📁 Saved checkpoint at epoch {epoch+1}\")\n",
        "\n",
        "    # Save final model\n",
        "    torch.save({\n",
        "        'vae_state_dict': vae.state_dict(),\n",
        "        'diffusion_state_dict': diffusion.state_dict(),\n",
        "    }, os.path.join(config.output_dir, 'final_model.pt'))\n",
        "\n",
        "    print(f\"🎉 Training completed! Final model saved to {config.output_dir}\")\n",
        "    writer.close()\n",
        "\n",
        "    return vae, diffusion\n",
        "\n",
        "\n",
        "if __name__ == \"__main__\":\n",
        "    # Make sure Google Drive is mounted\n",
        "    try:\n",
        "        from google.colab import drive\n",
        "        drive.mount('/content/drive')\n",
        "        print(\"Google Drive mounted successfully\")\n",
        "    except:\n",
        "        print(\"Not running in Colab or Drive already mounted\")\n",
        "\n",
        "    # Import necessary modules\n",
        "    import torch\n",
        "    from torchvision import transforms\n",
        "\n",
        "    # Start training\n",
        "    vae, diffusion = train_adversarial_defense_system()\n",
        "\n",
        "    print(\"Training complete!\")"
      ],
      "metadata": {
        "colab": {
          "base_uri": "https://localhost:8080/"
        },
        "id": "qH5wkSuEH_PQ",
        "outputId": "d3351323-8cb4-447c-edd8-36a02425a0b1"
      },
      "execution_count": 4,
      "outputs": [
        {
          "output_type": "stream",
          "name": "stdout",
          "text": [
            "Mounted at /content/drive\n",
            "Google Drive mounted successfully\n",
            "Using device: cuda\n",
            "Found 74 images in /content/drive/MyDrive/CVProject/\n",
            "Dataset created with 74 images, 5 simulated vehicles\n",
            "Starting training...\n"
          ]
        },
        {
          "output_type": "stream",
          "name": "stderr",
          "text": [
            "Epoch 1/50:  67%|██████▋   | 6/9 [00:22<00:09,  3.11s/it, VAE Loss=129413.2812, Diff Loss=1.0225]"
          ]
        },
        {
          "output_type": "stream",
          "name": "stdout",
          "text": [
            "Error loading image /content/drive/MyDrive/CVProject/000071_camera1.png: image file is truncated\n"
          ]
        },
        {
          "output_type": "stream",
          "name": "stderr",
          "text": [
            "Epoch 1/50: 100%|██████████| 9/9 [00:34<00:00,  3.79s/it, VAE Loss=81356.1562, Diff Loss=1.0048]\n"
          ]
        },
        {
          "output_type": "stream",
          "name": "stdout",
          "text": [
            "\n",
            "Epoch 1/50 completed in 34.15s\n",
            "VAE Loss: 134616.2083 (Recon: 134610.2127, KLD: 1199.1952)\n",
            "Diffusion Loss: 1.0119\n",
            "✅ Saved best model checkpoint with loss: 134617.2202\n"
          ]
        },
        {
          "output_type": "stream",
          "name": "stderr",
          "text": [
            "\rEpoch 2/50:   0%|          | 0/9 [00:00<?, ?it/s]"
          ]
        },
        {
          "output_type": "stream",
          "name": "stdout",
          "text": [
            "Error loading image /content/drive/MyDrive/CVProject/000071_camera1.png: image file is truncated\n"
          ]
        },
        {
          "output_type": "stream",
          "name": "stderr",
          "text": [
            "Epoch 2/50: 100%|██████████| 9/9 [00:02<00:00,  3.77it/s, VAE Loss=87375.1641, Diff Loss=1.4291]\n"
          ]
        },
        {
          "output_type": "stream",
          "name": "stdout",
          "text": [
            "\n",
            "Epoch 2/50 completed in 2.39s\n",
            "VAE Loss: 124484.3351 (Recon: 89815.0477, KLD: 6933858.1437)\n",
            "Diffusion Loss: 2.5176\n",
            "✅ Saved best model checkpoint with loss: 124486.8526\n"
          ]
        },
        {
          "output_type": "stream",
          "name": "stderr",
          "text": [
            "Epoch 3/50:  33%|███▎      | 3/9 [00:01<00:01,  3.56it/s, VAE Loss=86227.5938, Diff Loss=1.0066]"
          ]
        },
        {
          "output_type": "stream",
          "name": "stdout",
          "text": [
            "Error loading image /content/drive/MyDrive/CVProject/000071_camera1.png: image file is truncated\n"
          ]
        },
        {
          "output_type": "stream",
          "name": "stderr",
          "text": [
            "Epoch 3/50: 100%|██████████| 9/9 [00:01<00:00,  4.79it/s, VAE Loss=76155.3125, Diff Loss=1.6579]\n"
          ]
        },
        {
          "output_type": "stream",
          "name": "stdout",
          "text": [
            "\n",
            "Epoch 3/50 completed in 1.88s\n",
            "VAE Loss: 80954.0495 (Recon: 76878.1137, KLD: 815187.3107)\n",
            "Diffusion Loss: 1.6939\n",
            "✅ Saved best model checkpoint with loss: 80955.7433\n"
          ]
        },
        {
          "output_type": "stream",
          "name": "stderr",
          "text": [
            "Epoch 4/50:  56%|█████▌    | 5/9 [00:01<00:00,  4.01it/s, VAE Loss=102391.7656, Diff Loss=1.0406]"
          ]
        },
        {
          "output_type": "stream",
          "name": "stdout",
          "text": [
            "Error loading image /content/drive/MyDrive/CVProject/000071_camera1.png: image file is truncated\n"
          ]
        },
        {
          "output_type": "stream",
          "name": "stderr",
          "text": [
            "Epoch 4/50: 100%|██████████| 9/9 [00:01<00:00,  4.51it/s, VAE Loss=54314.1523, Diff Loss=0.8769]\n"
          ]
        },
        {
          "output_type": "stream",
          "name": "stdout",
          "text": [
            "\n",
            "Epoch 4/50 completed in 2.00s\n",
            "VAE Loss: 74295.6541 (Recon: 72647.6458, KLD: 329601.3977)\n",
            "Diffusion Loss: 1.2519\n",
            "✅ Saved best model checkpoint with loss: 74296.9060\n"
          ]
        },
        {
          "output_type": "stream",
          "name": "stderr",
          "text": [
            "\rEpoch 5/50:   0%|          | 0/9 [00:00<?, ?it/s]"
          ]
        },
        {
          "output_type": "stream",
          "name": "stdout",
          "text": [
            "Error loading image /content/drive/MyDrive/CVProject/000071_camera1.png: image file is truncated\n"
          ]
        },
        {
          "output_type": "stream",
          "name": "stderr",
          "text": [
            "Epoch 5/50: 100%|██████████| 9/9 [00:03<00:00,  2.91it/s, VAE Loss=65599.2734, Diff Loss=0.9052]\n"
          ]
        },
        {
          "output_type": "stream",
          "name": "stdout",
          "text": [
            "\n",
            "Epoch 5/50 completed in 3.11s\n",
            "VAE Loss: 72123.1042 (Recon: 71971.3902, KLD: 30342.8727)\n",
            "Diffusion Loss: 0.9610\n",
            "✅ Saved best model checkpoint with loss: 72124.0652\n",
            "📁 Saved checkpoint at epoch 5\n"
          ]
        },
        {
          "output_type": "stream",
          "name": "stderr",
          "text": [
            "Epoch 6/50:  33%|███▎      | 3/9 [00:00<00:01,  4.44it/s, VAE Loss=63397.5430, Diff Loss=0.9913]"
          ]
        },
        {
          "output_type": "stream",
          "name": "stdout",
          "text": [
            "Error loading image /content/drive/MyDrive/CVProject/000071_camera1.png: image file is truncated\n"
          ]
        },
        {
          "output_type": "stream",
          "name": "stderr",
          "text": [
            "Epoch 6/50: 100%|██████████| 9/9 [00:01<00:00,  4.77it/s, VAE Loss=59192.3047, Diff Loss=1.1357]\n"
          ]
        },
        {
          "output_type": "stream",
          "name": "stdout",
          "text": [
            "\n",
            "Epoch 6/50 completed in 1.89s\n",
            "VAE Loss: 67050.6905 (Recon: 67005.1315, KLD: 9111.8090)\n",
            "Diffusion Loss: 1.0384\n",
            "✅ Saved best model checkpoint with loss: 67051.7289\n"
          ]
        },
        {
          "output_type": "stream",
          "name": "stderr",
          "text": [
            "\rEpoch 7/50:   0%|          | 0/9 [00:00<?, ?it/s]"
          ]
        },
        {
          "output_type": "stream",
          "name": "stdout",
          "text": [
            "Error loading image /content/drive/MyDrive/CVProject/000071_camera1.png: image file is truncated\n"
          ]
        },
        {
          "output_type": "stream",
          "name": "stderr",
          "text": [
            "Epoch 7/50: 100%|██████████| 9/9 [00:01<00:00,  5.14it/s, VAE Loss=64807.4062, Diff Loss=1.0410]\n"
          ]
        },
        {
          "output_type": "stream",
          "name": "stdout",
          "text": [
            "\n",
            "Epoch 7/50 completed in 1.75s\n",
            "VAE Loss: 60750.4826 (Recon: 60730.8941, KLD: 3917.7077)\n",
            "Diffusion Loss: 1.0053\n",
            "✅ Saved best model checkpoint with loss: 60751.4879\n"
          ]
        },
        {
          "output_type": "stream",
          "name": "stderr",
          "text": [
            "Epoch 8/50: 100%|██████████| 9/9 [00:02<00:00,  3.81it/s, VAE Loss=50694.7383, Diff Loss=0.9522]\n"
          ]
        },
        {
          "output_type": "stream",
          "name": "stdout",
          "text": [
            "\n",
            "Epoch 8/50 completed in 2.37s\n",
            "VAE Loss: 57096.1749 (Recon: 57077.3594, KLD: 3763.2348)\n",
            "Diffusion Loss: 0.9565\n",
            "✅ Saved best model checkpoint with loss: 57097.1314\n"
          ]
        },
        {
          "output_type": "stream",
          "name": "stderr",
          "text": [
            "Epoch 9/50:  56%|█████▌    | 5/9 [00:01<00:01,  2.97it/s, VAE Loss=51232.7070, Diff Loss=0.9478]"
          ]
        },
        {
          "output_type": "stream",
          "name": "stdout",
          "text": [
            "Error loading image /content/drive/MyDrive/CVProject/000071_camera1.png: image file is truncated"
          ]
        },
        {
          "output_type": "stream",
          "name": "stderr",
          "text": [
            "\rEpoch 9/50:  56%|█████▌    | 5/9 [00:01<00:01,  2.97it/s, VAE Loss=44590.8672, Diff Loss=0.9954]"
          ]
        },
        {
          "output_type": "stream",
          "name": "stdout",
          "text": [
            "\n"
          ]
        },
        {
          "output_type": "stream",
          "name": "stderr",
          "text": [
            "Epoch 9/50: 100%|██████████| 9/9 [00:02<00:00,  3.54it/s, VAE Loss=37473.5898, Diff Loss=1.1154]\n"
          ]
        },
        {
          "output_type": "stream",
          "name": "stdout",
          "text": [
            "\n",
            "Epoch 9/50 completed in 2.55s\n",
            "VAE Loss: 47116.6267 (Recon: 47090.2530, KLD: 5274.6600)\n",
            "Diffusion Loss: 1.0132\n",
            "✅ Saved best model checkpoint with loss: 47117.6400\n"
          ]
        },
        {
          "output_type": "stream",
          "name": "stderr",
          "text": [
            "Epoch 10/50:  56%|█████▌    | 5/9 [00:01<00:01,  3.00it/s, VAE Loss=48951.0625, Diff Loss=0.9680]"
          ]
        },
        {
          "output_type": "stream",
          "name": "stdout",
          "text": [
            "Error loading image /content/drive/MyDrive/CVProject/000071_camera1.png: image file is truncated\n"
          ]
        },
        {
          "output_type": "stream",
          "name": "stderr",
          "text": [
            "Epoch 10/50: 100%|██████████| 9/9 [00:02<00:00,  3.78it/s, VAE Loss=54432.8047, Diff Loss=1.0368]\n"
          ]
        },
        {
          "output_type": "stream",
          "name": "stdout",
          "text": [
            "\n",
            "Epoch 10/50 completed in 2.38s\n",
            "VAE Loss: 49220.4371 (Recon: 49205.1853, KLD: 3050.2463)\n",
            "Diffusion Loss: 1.0268\n",
            "📁 Saved checkpoint at epoch 10\n"
          ]
        },
        {
          "output_type": "stream",
          "name": "stderr",
          "text": [
            "Epoch 11/50:  67%|██████▋   | 6/9 [00:01<00:00,  4.90it/s, VAE Loss=55151.3281, Diff Loss=0.8834]"
          ]
        },
        {
          "output_type": "stream",
          "name": "stdout",
          "text": [
            "Error loading image /content/drive/MyDrive/CVProject/000071_camera1.png: image file is truncated\n"
          ]
        },
        {
          "output_type": "stream",
          "name": "stderr",
          "text": [
            "Epoch 11/50: 100%|██████████| 9/9 [00:02<00:00,  4.43it/s, VAE Loss=47757.9023, Diff Loss=1.0196]\n"
          ]
        },
        {
          "output_type": "stream",
          "name": "stdout",
          "text": [
            "\n",
            "Epoch 11/50 completed in 2.04s\n",
            "VAE Loss: 52242.5556 (Recon: 52193.1823, KLD: 9874.6398)\n",
            "Diffusion Loss: 1.0115\n"
          ]
        },
        {
          "output_type": "stream",
          "name": "stderr",
          "text": [
            "Epoch 12/50:  56%|█████▌    | 5/9 [00:01<00:00,  4.25it/s, VAE Loss=54714.7422, Diff Loss=0.9970]"
          ]
        },
        {
          "output_type": "stream",
          "name": "stdout",
          "text": [
            "Error loading image /content/drive/MyDrive/CVProject/000071_camera1.png: image file is truncated\n"
          ]
        },
        {
          "output_type": "stream",
          "name": "stderr",
          "text": [
            "Epoch 12/50: 100%|██████████| 9/9 [00:02<00:00,  4.34it/s, VAE Loss=39795.5742, Diff Loss=1.0071]\n"
          ]
        },
        {
          "output_type": "stream",
          "name": "stdout",
          "text": [
            "\n",
            "Epoch 12/50 completed in 2.08s\n",
            "VAE Loss: 45674.3342 (Recon: 45649.5009, KLD: 4966.6774)\n",
            "Diffusion Loss: 0.9977\n",
            "✅ Saved best model checkpoint with loss: 45675.3319\n"
          ]
        },
        {
          "output_type": "stream",
          "name": "stderr",
          "text": [
            "\rEpoch 13/50:   0%|          | 0/9 [00:00<?, ?it/s]"
          ]
        },
        {
          "output_type": "stream",
          "name": "stdout",
          "text": [
            "Error loading image /content/drive/MyDrive/CVProject/000071_camera1.png: image file is truncated\n"
          ]
        },
        {
          "output_type": "stream",
          "name": "stderr",
          "text": [
            "Epoch 13/50: 100%|██████████| 9/9 [00:01<00:00,  5.20it/s, VAE Loss=38010.0664, Diff Loss=0.9753]\n"
          ]
        },
        {
          "output_type": "stream",
          "name": "stdout",
          "text": [
            "\n",
            "Epoch 13/50 completed in 1.73s\n",
            "VAE Loss: 42380.7947 (Recon: 42352.1576, KLD: 5727.5265)\n",
            "Diffusion Loss: 0.9950\n",
            "✅ Saved best model checkpoint with loss: 42381.7898\n"
          ]
        },
        {
          "output_type": "stream",
          "name": "stderr",
          "text": [
            "\rEpoch 14/50:   0%|          | 0/9 [00:00<?, ?it/s]"
          ]
        },
        {
          "output_type": "stream",
          "name": "stdout",
          "text": [
            "Error loading image /content/drive/MyDrive/CVProject/000071_camera1.png: image file is truncated\n"
          ]
        },
        {
          "output_type": "stream",
          "name": "stderr",
          "text": [
            "Epoch 14/50: 100%|██████████| 9/9 [00:01<00:00,  4.74it/s, VAE Loss=38925.6133, Diff Loss=0.9121]\n"
          ]
        },
        {
          "output_type": "stream",
          "name": "stdout",
          "text": [
            "\n",
            "Epoch 14/50 completed in 1.90s\n",
            "VAE Loss: 46674.3581 (Recon: 46656.5990, KLD: 3551.7958)\n",
            "Diffusion Loss: 0.9759\n"
          ]
        },
        {
          "output_type": "stream",
          "name": "stderr",
          "text": [
            "Epoch 15/50:  33%|███▎      | 3/9 [00:01<00:02,  2.61it/s, VAE Loss=44102.8008, Diff Loss=1.0705]"
          ]
        },
        {
          "output_type": "stream",
          "name": "stdout",
          "text": [
            "Error loading image /content/drive/MyDrive/CVProject/000071_camera1.png: image file is truncated\n"
          ]
        },
        {
          "output_type": "stream",
          "name": "stderr",
          "text": [
            "Epoch 15/50: 100%|██████████| 9/9 [00:02<00:00,  3.05it/s, VAE Loss=41823.2578, Diff Loss=1.0156]\n"
          ]
        },
        {
          "output_type": "stream",
          "name": "stdout",
          "text": [
            "\n",
            "Epoch 15/50 completed in 2.95s\n",
            "VAE Loss: 42667.1163 (Recon: 42646.8867, KLD: 4045.9120)\n",
            "Diffusion Loss: 1.0186\n",
            "📁 Saved checkpoint at epoch 15\n"
          ]
        },
        {
          "output_type": "stream",
          "name": "stderr",
          "text": [
            "Epoch 16/50:  33%|███▎      | 3/9 [00:01<00:02,  2.25it/s, VAE Loss=37855.6367, Diff Loss=0.9564]"
          ]
        },
        {
          "output_type": "stream",
          "name": "stdout",
          "text": [
            "Error loading image /content/drive/MyDrive/CVProject/000071_camera1.png: image file is truncated\n"
          ]
        },
        {
          "output_type": "stream",
          "name": "stderr",
          "text": [
            "Epoch 16/50: 100%|██████████| 9/9 [00:03<00:00,  2.97it/s, VAE Loss=43036.7031, Diff Loss=1.0044]\n"
          ]
        },
        {
          "output_type": "stream",
          "name": "stdout",
          "text": [
            "\n",
            "Epoch 16/50 completed in 3.03s\n",
            "VAE Loss: 41049.7921 (Recon: 41029.3424, KLD: 4089.9898)\n",
            "Diffusion Loss: 1.0432\n",
            "✅ Saved best model checkpoint with loss: 41050.8353\n"
          ]
        },
        {
          "output_type": "stream",
          "name": "stderr",
          "text": [
            "Epoch 17/50:  33%|███▎      | 3/9 [00:01<00:01,  3.14it/s, VAE Loss=43734.8086, Diff Loss=0.9467]"
          ]
        },
        {
          "output_type": "stream",
          "name": "stdout",
          "text": [
            "Error loading image /content/drive/MyDrive/CVProject/000071_camera1.png: image file is truncated\n"
          ]
        },
        {
          "output_type": "stream",
          "name": "stderr",
          "text": [
            "Epoch 17/50: 100%|██████████| 9/9 [00:02<00:00,  4.31it/s, VAE Loss=42028.2969, Diff Loss=1.0432]\n"
          ]
        },
        {
          "output_type": "stream",
          "name": "stdout",
          "text": [
            "\n",
            "Epoch 17/50 completed in 2.09s\n",
            "VAE Loss: 45254.2361 (Recon: 45236.2964, KLD: 3587.8851)\n",
            "Diffusion Loss: 1.0176\n"
          ]
        },
        {
          "output_type": "stream",
          "name": "stderr",
          "text": [
            "Epoch 18/50:  11%|█         | 1/9 [00:00<00:03,  2.18it/s, VAE Loss=38763.3906, Diff Loss=1.0335]"
          ]
        },
        {
          "output_type": "stream",
          "name": "stdout",
          "text": [
            "Error loading image /content/drive/MyDrive/CVProject/000071_camera1.png: image file is truncated\n"
          ]
        },
        {
          "output_type": "stream",
          "name": "stderr",
          "text": [
            "Epoch 18/50: 100%|██████████| 9/9 [00:01<00:00,  5.20it/s, VAE Loss=39511.1875, Diff Loss=1.0922]\n"
          ]
        },
        {
          "output_type": "stream",
          "name": "stdout",
          "text": [
            "\n",
            "Epoch 18/50 completed in 1.74s\n",
            "VAE Loss: 38385.4833 (Recon: 38371.2135, KLD: 2853.9362)\n",
            "Diffusion Loss: 1.0191\n",
            "✅ Saved best model checkpoint with loss: 38386.5024\n"
          ]
        },
        {
          "output_type": "stream",
          "name": "stderr",
          "text": [
            "\rEpoch 19/50:   0%|          | 0/9 [00:00<?, ?it/s]"
          ]
        },
        {
          "output_type": "stream",
          "name": "stdout",
          "text": [
            "Error loading image /content/drive/MyDrive/CVProject/000071_camera1.png: image file is truncated\n"
          ]
        },
        {
          "output_type": "stream",
          "name": "stderr",
          "text": [
            "Epoch 19/50: 100%|██████████| 9/9 [00:01<00:00,  4.72it/s, VAE Loss=34211.2578, Diff Loss=1.0234]\n"
          ]
        },
        {
          "output_type": "stream",
          "name": "stdout",
          "text": [
            "\n",
            "Epoch 19/50 completed in 1.91s\n",
            "VAE Loss: 43339.6267 (Recon: 43324.2856, KLD: 3068.1792)\n",
            "Diffusion Loss: 1.0171\n"
          ]
        },
        {
          "output_type": "stream",
          "name": "stderr",
          "text": [
            "Epoch 20/50:  11%|█         | 1/9 [00:00<00:03,  2.12it/s, VAE Loss=33090.9961, Diff Loss=0.9460]"
          ]
        },
        {
          "output_type": "stream",
          "name": "stdout",
          "text": [
            "Error loading image /content/drive/MyDrive/CVProject/000071_camera1.png: image file is truncated\n"
          ]
        },
        {
          "output_type": "stream",
          "name": "stderr",
          "text": [
            "Epoch 20/50: 100%|██████████| 9/9 [00:01<00:00,  4.74it/s, VAE Loss=26580.4727, Diff Loss=0.9927]\n"
          ]
        },
        {
          "output_type": "stream",
          "name": "stdout",
          "text": [
            "\n",
            "Epoch 20/50 completed in 1.90s\n",
            "VAE Loss: 33979.5143 (Recon: 33963.8880, KLD: 3125.2786)\n",
            "Diffusion Loss: 0.9762\n",
            "✅ Saved best model checkpoint with loss: 33980.4906\n",
            "📁 Saved checkpoint at epoch 20\n"
          ]
        },
        {
          "output_type": "stream",
          "name": "stderr",
          "text": [
            "\rEpoch 21/50:   0%|          | 0/9 [00:00<?, ?it/s]"
          ]
        },
        {
          "output_type": "stream",
          "name": "stdout",
          "text": [
            "Error loading image /content/drive/MyDrive/CVProject/000071_camera1.png: image file is truncated\n"
          ]
        },
        {
          "output_type": "stream",
          "name": "stderr",
          "text": [
            "Epoch 21/50: 100%|██████████| 9/9 [00:01<00:00,  4.59it/s, VAE Loss=40031.4922, Diff Loss=1.0373]\n"
          ]
        },
        {
          "output_type": "stream",
          "name": "stdout",
          "text": [
            "\n",
            "Epoch 21/50 completed in 1.99s\n",
            "VAE Loss: 36420.5074 (Recon: 36406.0315, KLD: 2895.3071)\n",
            "Diffusion Loss: 0.9815\n"
          ]
        },
        {
          "output_type": "stream",
          "name": "stderr",
          "text": [
            "Epoch 22/50:  11%|█         | 1/9 [00:00<00:03,  2.00it/s, VAE Loss=36463.5430, Diff Loss=0.9445]"
          ]
        },
        {
          "output_type": "stream",
          "name": "stdout",
          "text": [
            "Error loading image /content/drive/MyDrive/CVProject/000071_camera1.png: image file is truncated\n"
          ]
        },
        {
          "output_type": "stream",
          "name": "stderr",
          "text": [
            "Epoch 22/50: 100%|██████████| 9/9 [00:01<00:00,  4.73it/s, VAE Loss=37947.6680, Diff Loss=1.0478]\n"
          ]
        },
        {
          "output_type": "stream",
          "name": "stdout",
          "text": [
            "\n",
            "Epoch 22/50 completed in 1.91s\n",
            "VAE Loss: 36704.2014 (Recon: 36690.2604, KLD: 2788.1391)\n",
            "Diffusion Loss: 0.9818\n"
          ]
        },
        {
          "output_type": "stream",
          "name": "stderr",
          "text": [
            "Epoch 23/50:  78%|███████▊  | 7/9 [00:01<00:00,  5.01it/s, VAE Loss=33588.3320, Diff Loss=0.9873]"
          ]
        },
        {
          "output_type": "stream",
          "name": "stdout",
          "text": [
            "Error loading image /content/drive/MyDrive/CVProject/000071_camera1.png: image file is truncated\n"
          ]
        },
        {
          "output_type": "stream",
          "name": "stderr",
          "text": [
            "Epoch 23/50: 100%|██████████| 9/9 [00:01<00:00,  4.58it/s, VAE Loss=43528.7148, Diff Loss=0.9229]\n"
          ]
        },
        {
          "output_type": "stream",
          "name": "stdout",
          "text": [
            "\n",
            "Epoch 23/50 completed in 1.97s\n",
            "VAE Loss: 39290.0519 (Recon: 39276.6298, KLD: 2684.4361)\n",
            "Diffusion Loss: 1.0010\n"
          ]
        },
        {
          "output_type": "stream",
          "name": "stderr",
          "text": [
            "Epoch 24/50:  11%|█         | 1/9 [00:00<00:04,  1.92it/s, VAE Loss=32520.1816, Diff Loss=1.0626]"
          ]
        },
        {
          "output_type": "stream",
          "name": "stdout",
          "text": [
            "Error loading image /content/drive/MyDrive/CVProject/000071_camera1.png: image file is truncated\n"
          ]
        },
        {
          "output_type": "stream",
          "name": "stderr",
          "text": [
            "Epoch 24/50: 100%|██████████| 9/9 [00:01<00:00,  4.82it/s, VAE Loss=31243.7383, Diff Loss=0.9910]\n"
          ]
        },
        {
          "output_type": "stream",
          "name": "stdout",
          "text": [
            "\n",
            "Epoch 24/50 completed in 1.87s\n",
            "VAE Loss: 33664.2687 (Recon: 33649.8989, KLD: 2873.9100)\n",
            "Diffusion Loss: 1.0236\n",
            "✅ Saved best model checkpoint with loss: 33665.2923\n"
          ]
        },
        {
          "output_type": "stream",
          "name": "stderr",
          "text": [
            "\rEpoch 25/50:   0%|          | 0/9 [00:00<?, ?it/s]"
          ]
        },
        {
          "output_type": "stream",
          "name": "stdout",
          "text": [
            "Error loading image /content/drive/MyDrive/CVProject/000071_camera1.png: image file is truncated\n"
          ]
        },
        {
          "output_type": "stream",
          "name": "stderr",
          "text": [
            "Epoch 25/50: 100%|██████████| 9/9 [00:01<00:00,  4.80it/s, VAE Loss=27654.9902, Diff Loss=1.0553]\n"
          ]
        },
        {
          "output_type": "stream",
          "name": "stdout",
          "text": [
            "\n",
            "Epoch 25/50 completed in 1.88s\n",
            "VAE Loss: 33533.3494 (Recon: 33519.9967, KLD: 2670.5895)\n",
            "Diffusion Loss: 1.0214\n",
            "✅ Saved best model checkpoint with loss: 33534.3708\n",
            "📁 Saved checkpoint at epoch 25\n"
          ]
        },
        {
          "output_type": "stream",
          "name": "stderr",
          "text": [
            "Epoch 26/50:  33%|███▎      | 3/9 [00:01<00:01,  3.18it/s, VAE Loss=23521.9863, Diff Loss=1.0863]"
          ]
        },
        {
          "output_type": "stream",
          "name": "stdout",
          "text": [
            "Error loading image /content/drive/MyDrive/CVProject/000071_camera1.png: image file is truncated\n"
          ]
        },
        {
          "output_type": "stream",
          "name": "stderr",
          "text": [
            "Epoch 26/50: 100%|██████████| 9/9 [00:01<00:00,  4.68it/s, VAE Loss=35561.3828, Diff Loss=0.9466]\n"
          ]
        },
        {
          "output_type": "stream",
          "name": "stdout",
          "text": [
            "\n",
            "Epoch 26/50 completed in 1.92s\n",
            "VAE Loss: 31766.7216 (Recon: 31753.7754, KLD: 2589.3197)\n",
            "Diffusion Loss: 0.9872\n",
            "✅ Saved best model checkpoint with loss: 31767.7088\n"
          ]
        },
        {
          "output_type": "stream",
          "name": "stderr",
          "text": [
            "Epoch 27/50:  78%|███████▊  | 7/9 [00:01<00:00,  5.19it/s, VAE Loss=30020.7949, Diff Loss=1.0516]"
          ]
        },
        {
          "output_type": "stream",
          "name": "stdout",
          "text": [
            "Error loading image /content/drive/MyDrive/CVProject/000071_camera1.png: image file is truncated\n"
          ]
        },
        {
          "output_type": "stream",
          "name": "stderr",
          "text": [
            "Epoch 27/50: 100%|██████████| 9/9 [00:01<00:00,  5.03it/s, VAE Loss=33451.0312, Diff Loss=0.9785]\n"
          ]
        },
        {
          "output_type": "stream",
          "name": "stdout",
          "text": [
            "\n",
            "Epoch 27/50 completed in 1.79s\n",
            "VAE Loss: 32963.8190 (Recon: 32951.1701, KLD: 2529.7776)\n",
            "Diffusion Loss: 0.9786\n"
          ]
        },
        {
          "output_type": "stream",
          "name": "stderr",
          "text": [
            "Epoch 28/50:  11%|█         | 1/9 [00:00<00:03,  2.06it/s, VAE Loss=22627.8164, Diff Loss=0.9730]"
          ]
        },
        {
          "output_type": "stream",
          "name": "stdout",
          "text": [
            "Error loading image /content/drive/MyDrive/CVProject/000071_camera1.png: image file is truncated\n"
          ]
        },
        {
          "output_type": "stream",
          "name": "stderr",
          "text": [
            "Epoch 28/50: 100%|██████████| 9/9 [00:01<00:00,  5.16it/s, VAE Loss=28172.2246, Diff Loss=1.0205]\n"
          ]
        },
        {
          "output_type": "stream",
          "name": "stdout",
          "text": [
            "\n",
            "Epoch 28/50 completed in 1.75s\n",
            "VAE Loss: 30627.3438 (Recon: 30614.6398, KLD: 2540.7520)\n",
            "Diffusion Loss: 0.9985\n",
            "✅ Saved best model checkpoint with loss: 30628.3423\n"
          ]
        },
        {
          "output_type": "stream",
          "name": "stderr",
          "text": [
            "\rEpoch 29/50:   0%|          | 0/9 [00:00<?, ?it/s]"
          ]
        },
        {
          "output_type": "stream",
          "name": "stdout",
          "text": [
            "Error loading image /content/drive/MyDrive/CVProject/000071_camera1.png: image file is truncated\n"
          ]
        },
        {
          "output_type": "stream",
          "name": "stderr",
          "text": [
            "Epoch 29/50: 100%|██████████| 9/9 [00:02<00:00,  4.31it/s, VAE Loss=21077.4668, Diff Loss=1.1388]\n"
          ]
        },
        {
          "output_type": "stream",
          "name": "stdout",
          "text": [
            "\n",
            "Epoch 29/50 completed in 2.09s\n",
            "VAE Loss: 32241.5022 (Recon: 32229.2166, KLD: 2457.1306)\n",
            "Diffusion Loss: 0.9687\n"
          ]
        },
        {
          "output_type": "stream",
          "name": "stderr",
          "text": [
            "Epoch 30/50:  78%|███████▊  | 7/9 [00:02<00:00,  3.02it/s, VAE Loss=28255.4316, Diff Loss=1.1634]"
          ]
        },
        {
          "output_type": "stream",
          "name": "stdout",
          "text": [
            "Error loading image /content/drive/MyDrive/CVProject/000071_camera1.png: image file is truncated\n"
          ]
        },
        {
          "output_type": "stream",
          "name": "stderr",
          "text": [
            "Epoch 30/50: 100%|██████████| 9/9 [00:03<00:00,  2.79it/s, VAE Loss=27900.3457, Diff Loss=1.0768]\n"
          ]
        },
        {
          "output_type": "stream",
          "name": "stdout",
          "text": [
            "\n",
            "Epoch 30/50 completed in 3.23s\n",
            "VAE Loss: 31449.4861 (Recon: 31437.6398, KLD: 2369.2810)\n",
            "Diffusion Loss: 1.0447\n",
            "📁 Saved checkpoint at epoch 30\n"
          ]
        },
        {
          "output_type": "stream",
          "name": "stderr",
          "text": [
            "Epoch 31/50:  33%|███▎      | 3/9 [00:00<00:01,  3.55it/s, VAE Loss=26279.1465, Diff Loss=0.9555]"
          ]
        },
        {
          "output_type": "stream",
          "name": "stdout",
          "text": [
            "Error loading image /content/drive/MyDrive/CVProject/000071_camera1.png: image file is truncated\n"
          ]
        },
        {
          "output_type": "stream",
          "name": "stderr",
          "text": [
            "Epoch 31/50: 100%|██████████| 9/9 [00:01<00:00,  4.78it/s, VAE Loss=32239.9102, Diff Loss=1.0444]\n"
          ]
        },
        {
          "output_type": "stream",
          "name": "stdout",
          "text": [
            "\n",
            "Epoch 31/50 completed in 1.90s\n",
            "VAE Loss: 29749.0406 (Recon: 29736.4757, KLD: 2512.9367)\n",
            "Diffusion Loss: 0.9945\n",
            "✅ Saved best model checkpoint with loss: 29750.0351\n"
          ]
        },
        {
          "output_type": "stream",
          "name": "stderr",
          "text": [
            "\rEpoch 32/50:   0%|          | 0/9 [00:00<?, ?it/s]"
          ]
        },
        {
          "output_type": "stream",
          "name": "stdout",
          "text": [
            "Error loading image /content/drive/MyDrive/CVProject/000071_camera1.png: image file is truncated\n"
          ]
        },
        {
          "output_type": "stream",
          "name": "stderr",
          "text": [
            "Epoch 32/50: 100%|██████████| 9/9 [00:01<00:00,  5.12it/s, VAE Loss=28549.0820, Diff Loss=0.9447]\n"
          ]
        },
        {
          "output_type": "stream",
          "name": "stdout",
          "text": [
            "\n",
            "Epoch 32/50 completed in 1.77s\n",
            "VAE Loss: 28303.3843 (Recon: 28291.0345, KLD: 2470.0353)\n",
            "Diffusion Loss: 1.0105\n",
            "✅ Saved best model checkpoint with loss: 28304.3948\n"
          ]
        },
        {
          "output_type": "stream",
          "name": "stderr",
          "text": [
            "Epoch 33/50:  78%|███████▊  | 7/9 [00:02<00:00,  3.26it/s, VAE Loss=24438.9434, Diff Loss=0.8950]"
          ]
        },
        {
          "output_type": "stream",
          "name": "stdout",
          "text": [
            "Error loading image /content/drive/MyDrive/CVProject/000071_camera1.png: image file is truncated\n"
          ]
        },
        {
          "output_type": "stream",
          "name": "stderr",
          "text": [
            "Epoch 33/50: 100%|██████████| 9/9 [00:02<00:00,  3.33it/s, VAE Loss=45548.9492, Diff Loss=1.0027]\n"
          ]
        },
        {
          "output_type": "stream",
          "name": "stdout",
          "text": [
            "\n",
            "Epoch 33/50 completed in 2.71s\n",
            "VAE Loss: 31214.3743 (Recon: 31202.4004, KLD: 2394.8228)\n",
            "Diffusion Loss: 0.9525\n"
          ]
        },
        {
          "output_type": "stream",
          "name": "stderr",
          "text": [
            "Epoch 34/50:  67%|██████▋   | 6/9 [00:01<00:00,  3.84it/s, VAE Loss=32041.9297, Diff Loss=0.9248]"
          ]
        },
        {
          "output_type": "stream",
          "name": "stdout",
          "text": [
            "Error loading image /content/drive/MyDrive/CVProject/000071_camera1.png: image file is truncated\n"
          ]
        },
        {
          "output_type": "stream",
          "name": "stderr",
          "text": [
            "Epoch 34/50: 100%|██████████| 9/9 [00:02<00:00,  3.68it/s, VAE Loss=24967.4707, Diff Loss=1.0341]\n"
          ]
        },
        {
          "output_type": "stream",
          "name": "stdout",
          "text": [
            "\n",
            "Epoch 34/50 completed in 2.45s\n",
            "VAE Loss: 29755.6233 (Recon: 29742.7515, KLD: 2574.3823)\n",
            "Diffusion Loss: 0.9904\n"
          ]
        },
        {
          "output_type": "stream",
          "name": "stderr",
          "text": [
            "Epoch 35/50: 100%|██████████| 9/9 [00:02<00:00,  4.46it/s, VAE Loss=27200.5195, Diff Loss=0.9377]\n"
          ]
        },
        {
          "output_type": "stream",
          "name": "stdout",
          "text": [
            "\n",
            "Epoch 35/50 completed in 2.02s\n",
            "VAE Loss: 30649.3774 (Recon: 30637.0228, KLD: 2470.8633)\n",
            "Diffusion Loss: 0.9624\n",
            "📁 Saved checkpoint at epoch 35\n"
          ]
        },
        {
          "output_type": "stream",
          "name": "stderr",
          "text": [
            "Epoch 36/50:  56%|█████▌    | 5/9 [00:01<00:00,  4.98it/s, VAE Loss=25975.0566, Diff Loss=0.8584]"
          ]
        },
        {
          "output_type": "stream",
          "name": "stdout",
          "text": [
            "Error loading image /content/drive/MyDrive/CVProject/000071_camera1.png: image file is truncated\n"
          ]
        },
        {
          "output_type": "stream",
          "name": "stderr",
          "text": [
            "Epoch 36/50: 100%|██████████| 9/9 [00:01<00:00,  5.13it/s, VAE Loss=27932.7188, Diff Loss=0.9154]\n"
          ]
        },
        {
          "output_type": "stream",
          "name": "stdout",
          "text": [
            "\n",
            "Epoch 36/50 completed in 1.76s\n",
            "VAE Loss: 28313.2604 (Recon: 28300.5831, KLD: 2535.4395)\n",
            "Diffusion Loss: 0.9623\n"
          ]
        },
        {
          "output_type": "stream",
          "name": "stderr",
          "text": [
            "Epoch 37/50: 100%|██████████| 9/9 [00:02<00:00,  3.20it/s, VAE Loss=25031.9844, Diff Loss=1.0119]\n"
          ]
        },
        {
          "output_type": "stream",
          "name": "stdout",
          "text": [
            "\n",
            "Epoch 37/50 completed in 2.82s\n",
            "VAE Loss: 29850.6283 (Recon: 29838.9659, KLD: 2332.4395)\n",
            "Diffusion Loss: 0.9782\n"
          ]
        },
        {
          "output_type": "stream",
          "name": "stderr",
          "text": [
            "Epoch 38/50:  11%|█         | 1/9 [00:00<00:05,  1.39it/s, VAE Loss=36677.8242, Diff Loss=1.0407]"
          ]
        },
        {
          "output_type": "stream",
          "name": "stdout",
          "text": [
            "Error loading image /content/drive/MyDrive/CVProject/000071_camera1.png: image file is truncated\n"
          ]
        },
        {
          "output_type": "stream",
          "name": "stderr",
          "text": [
            "Epoch 38/50: 100%|██████████| 9/9 [00:02<00:00,  3.92it/s, VAE Loss=27382.2695, Diff Loss=1.0176]\n"
          ]
        },
        {
          "output_type": "stream",
          "name": "stdout",
          "text": [
            "\n",
            "Epoch 38/50 completed in 2.30s\n",
            "VAE Loss: 28696.3132 (Recon: 28683.6328, KLD: 2536.1191)\n",
            "Diffusion Loss: 1.0073\n"
          ]
        },
        {
          "output_type": "stream",
          "name": "stderr",
          "text": [
            "\rEpoch 39/50:   0%|          | 0/9 [00:00<?, ?it/s]"
          ]
        },
        {
          "output_type": "stream",
          "name": "stdout",
          "text": [
            "Error loading image /content/drive/MyDrive/CVProject/000071_camera1.png: image file is truncated\n"
          ]
        },
        {
          "output_type": "stream",
          "name": "stderr",
          "text": [
            "Epoch 39/50: 100%|██████████| 9/9 [00:01<00:00,  5.23it/s, VAE Loss=29918.2070, Diff Loss=0.8744]\n"
          ]
        },
        {
          "output_type": "stream",
          "name": "stdout",
          "text": [
            "\n",
            "Epoch 39/50 completed in 1.72s\n",
            "VAE Loss: 26163.4924 (Recon: 26151.4108, KLD: 2416.3228)\n",
            "Diffusion Loss: 0.9960\n",
            "✅ Saved best model checkpoint with loss: 26164.4884\n"
          ]
        },
        {
          "output_type": "stream",
          "name": "stderr",
          "text": [
            "Epoch 40/50:  11%|█         | 1/9 [00:00<00:05,  1.53it/s, VAE Loss=26160.8223, Diff Loss=1.0865]"
          ]
        },
        {
          "output_type": "stream",
          "name": "stdout",
          "text": [
            "Error loading image /content/drive/MyDrive/CVProject/000071_camera1.png: image file is truncated\n"
          ]
        },
        {
          "output_type": "stream",
          "name": "stderr",
          "text": [
            "Epoch 40/50: 100%|██████████| 9/9 [00:02<00:00,  4.39it/s, VAE Loss=35526.8438, Diff Loss=0.8938]\n"
          ]
        },
        {
          "output_type": "stream",
          "name": "stdout",
          "text": [
            "\n",
            "Epoch 40/50 completed in 2.05s\n",
            "VAE Loss: 25562.8793 (Recon: 25550.9097, KLD: 2393.8676)\n",
            "Diffusion Loss: 0.9987\n",
            "✅ Saved best model checkpoint with loss: 25563.8780\n",
            "📁 Saved checkpoint at epoch 40\n"
          ]
        },
        {
          "output_type": "stream",
          "name": "stderr",
          "text": [
            "Epoch 41/50:  56%|█████▌    | 5/9 [00:01<00:01,  2.89it/s, VAE Loss=23023.7402, Diff Loss=1.0078]"
          ]
        },
        {
          "output_type": "stream",
          "name": "stdout",
          "text": [
            "Error loading image /content/drive/MyDrive/CVProject/000071_camera1.png: image file is truncated\n"
          ]
        },
        {
          "output_type": "stream",
          "name": "stderr",
          "text": [
            "Epoch 41/50: 100%|██████████| 9/9 [00:03<00:00,  2.85it/s, VAE Loss=24424.1836, Diff Loss=0.9247]\n"
          ]
        },
        {
          "output_type": "stream",
          "name": "stdout",
          "text": [
            "\n",
            "Epoch 41/50 completed in 3.18s\n",
            "VAE Loss: 25484.8045 (Recon: 25473.0768, KLD: 2345.5120)\n",
            "Diffusion Loss: 1.0019\n",
            "✅ Saved best model checkpoint with loss: 25485.8063\n"
          ]
        },
        {
          "output_type": "stream",
          "name": "stderr",
          "text": [
            "Epoch 42/50:  78%|███████▊  | 7/9 [00:01<00:00,  5.24it/s, VAE Loss=17350.9805, Diff Loss=1.1463]"
          ]
        },
        {
          "output_type": "stream",
          "name": "stdout",
          "text": [
            "Error loading image /content/drive/MyDrive/CVProject/000071_camera1.png: image file is truncated\n"
          ]
        },
        {
          "output_type": "stream",
          "name": "stderr",
          "text": [
            "Epoch 42/50: 100%|██████████| 9/9 [00:01<00:00,  5.14it/s, VAE Loss=24106.5430, Diff Loss=0.8991]\n"
          ]
        },
        {
          "output_type": "stream",
          "name": "stdout",
          "text": [
            "\n",
            "Epoch 42/50 completed in 1.75s\n",
            "VAE Loss: 23819.3153 (Recon: 23807.4288, KLD: 2377.3732)\n",
            "Diffusion Loss: 0.9819\n",
            "✅ Saved best model checkpoint with loss: 23820.2973\n"
          ]
        },
        {
          "output_type": "stream",
          "name": "stderr",
          "text": [
            "Epoch 43/50:  11%|█         | 1/9 [00:00<00:03,  2.01it/s, VAE Loss=30851.2617, Diff Loss=1.0345]"
          ]
        },
        {
          "output_type": "stream",
          "name": "stdout",
          "text": [
            "Error loading image /content/drive/MyDrive/CVProject/000071_camera1.png: image file is truncated\n"
          ]
        },
        {
          "output_type": "stream",
          "name": "stderr",
          "text": [
            "Epoch 43/50: 100%|██████████| 9/9 [00:01<00:00,  4.77it/s, VAE Loss=29005.0371, Diff Loss=1.0898]\n"
          ]
        },
        {
          "output_type": "stream",
          "name": "stdout",
          "text": [
            "\n",
            "Epoch 43/50 completed in 1.89s\n",
            "VAE Loss: 28287.1645 (Recon: 28274.8895, KLD: 2454.9372)\n",
            "Diffusion Loss: 1.0546\n"
          ]
        },
        {
          "output_type": "stream",
          "name": "stderr",
          "text": [
            "Epoch 44/50:  33%|███▎      | 3/9 [00:00<00:01,  4.16it/s, VAE Loss=28303.6016, Diff Loss=0.9207]"
          ]
        },
        {
          "output_type": "stream",
          "name": "stdout",
          "text": [
            "Error loading image /content/drive/MyDrive/CVProject/000071_camera1.png: image file is truncated\n"
          ]
        },
        {
          "output_type": "stream",
          "name": "stderr",
          "text": [
            "Epoch 44/50: 100%|██████████| 9/9 [00:01<00:00,  5.21it/s, VAE Loss=33444.3242, Diff Loss=0.8517]\n"
          ]
        },
        {
          "output_type": "stream",
          "name": "stdout",
          "text": [
            "\n",
            "Epoch 44/50 completed in 1.73s\n",
            "VAE Loss: 24658.5460 (Recon: 24646.3520, KLD: 2438.8491)\n",
            "Diffusion Loss: 0.9802\n"
          ]
        },
        {
          "output_type": "stream",
          "name": "stderr",
          "text": [
            "Epoch 45/50:  44%|████▍     | 4/9 [00:01<00:00,  5.05it/s, VAE Loss=22125.0586, Diff Loss=1.0978]"
          ]
        },
        {
          "output_type": "stream",
          "name": "stdout",
          "text": [
            "Error loading image /content/drive/MyDrive/CVProject/000071_camera1.png: image file is truncated\n"
          ]
        },
        {
          "output_type": "stream",
          "name": "stderr",
          "text": [
            "Epoch 45/50: 100%|██████████| 9/9 [00:02<00:00,  4.39it/s, VAE Loss=32942.6953, Diff Loss=0.9454]\n"
          ]
        },
        {
          "output_type": "stream",
          "name": "stdout",
          "text": [
            "\n",
            "Epoch 45/50 completed in 2.05s\n",
            "VAE Loss: 25934.6651 (Recon: 25922.8813, KLD: 2356.7317)\n",
            "Diffusion Loss: 0.9908\n",
            "📁 Saved checkpoint at epoch 45\n"
          ]
        },
        {
          "output_type": "stream",
          "name": "stderr",
          "text": [
            "Epoch 46/50:  78%|███████▊  | 7/9 [00:01<00:00,  4.68it/s, VAE Loss=31848.8730, Diff Loss=1.0857]"
          ]
        },
        {
          "output_type": "stream",
          "name": "stdout",
          "text": [
            "Error loading image /content/drive/MyDrive/CVProject/000071_camera1.png: image file is truncated\n"
          ]
        },
        {
          "output_type": "stream",
          "name": "stderr",
          "text": [
            "Epoch 46/50: 100%|██████████| 9/9 [00:02<00:00,  4.25it/s, VAE Loss=35030.5586, Diff Loss=1.0371]\n"
          ]
        },
        {
          "output_type": "stream",
          "name": "stdout",
          "text": [
            "\n",
            "Epoch 46/50 completed in 2.12s\n",
            "VAE Loss: 29261.3312 (Recon: 29249.2945, KLD: 2407.3367)\n",
            "Diffusion Loss: 0.9846\n"
          ]
        },
        {
          "output_type": "stream",
          "name": "stderr",
          "text": [
            "Epoch 47/50:  56%|█████▌    | 5/9 [00:01<00:00,  4.45it/s, VAE Loss=21160.9414, Diff Loss=0.9638]"
          ]
        },
        {
          "output_type": "stream",
          "name": "stdout",
          "text": [
            "Error loading image /content/drive/MyDrive/CVProject/000071_camera1.png: image file is truncated\n"
          ]
        },
        {
          "output_type": "stream",
          "name": "stderr",
          "text": [
            "Epoch 47/50: 100%|██████████| 9/9 [00:01<00:00,  4.63it/s, VAE Loss=32486.1367, Diff Loss=0.9316]\n"
          ]
        },
        {
          "output_type": "stream",
          "name": "stdout",
          "text": [
            "\n",
            "Epoch 47/50 completed in 1.95s\n",
            "VAE Loss: 28554.6610 (Recon: 28542.8503, KLD: 2362.1025)\n",
            "Diffusion Loss: 0.9796\n"
          ]
        },
        {
          "output_type": "stream",
          "name": "stderr",
          "text": [
            "\rEpoch 48/50:   0%|          | 0/9 [00:00<?, ?it/s]"
          ]
        },
        {
          "output_type": "stream",
          "name": "stdout",
          "text": [
            "Error loading image /content/drive/MyDrive/CVProject/000071_camera1.png: image file is truncated\n"
          ]
        },
        {
          "output_type": "stream",
          "name": "stderr",
          "text": [
            "Epoch 48/50: 100%|██████████| 9/9 [00:01<00:00,  4.95it/s, VAE Loss=26911.1777, Diff Loss=0.9211]\n"
          ]
        },
        {
          "output_type": "stream",
          "name": "stdout",
          "text": [
            "\n",
            "Epoch 48/50 completed in 1.82s\n",
            "VAE Loss: 28461.9468 (Recon: 28450.5849, KLD: 2272.3033)\n",
            "Diffusion Loss: 0.9784\n"
          ]
        },
        {
          "output_type": "stream",
          "name": "stderr",
          "text": [
            "Epoch 49/50:  56%|█████▌    | 5/9 [00:01<00:00,  4.70it/s, VAE Loss=20451.7734, Diff Loss=0.9778]"
          ]
        },
        {
          "output_type": "stream",
          "name": "stdout",
          "text": [
            "Error loading image /content/drive/MyDrive/CVProject/000071_camera1.png: image file is truncated\n"
          ]
        },
        {
          "output_type": "stream",
          "name": "stderr",
          "text": [
            "Epoch 49/50: 100%|██████████| 9/9 [00:01<00:00,  4.62it/s, VAE Loss=21816.9707, Diff Loss=1.0976]\n"
          ]
        },
        {
          "output_type": "stream",
          "name": "stdout",
          "text": [
            "\n",
            "Epoch 49/50 completed in 1.95s\n",
            "VAE Loss: 26696.3724 (Recon: 26684.4464, KLD: 2385.1587)\n",
            "Diffusion Loss: 1.0176\n"
          ]
        },
        {
          "output_type": "stream",
          "name": "stderr",
          "text": [
            "\rEpoch 50/50:   0%|          | 0/9 [00:00<?, ?it/s]"
          ]
        },
        {
          "output_type": "stream",
          "name": "stdout",
          "text": [
            "Error loading image /content/drive/MyDrive/CVProject/000071_camera1.png: image file is truncated\n"
          ]
        },
        {
          "output_type": "stream",
          "name": "stderr",
          "text": [
            "Epoch 50/50: 100%|██████████| 9/9 [00:02<00:00,  3.86it/s, VAE Loss=25870.7812, Diff Loss=0.9840]\n"
          ]
        },
        {
          "output_type": "stream",
          "name": "stdout",
          "text": [
            "\n",
            "Epoch 50/50 completed in 2.34s\n",
            "VAE Loss: 23510.8483 (Recon: 23498.8145, KLD: 2406.7449)\n",
            "Diffusion Loss: 0.9882\n",
            "✅ Saved best model checkpoint with loss: 23511.8365\n",
            "📁 Saved checkpoint at epoch 50\n",
            "🎉 Training completed! Final model saved to /content/drive/MyDrive/CVProject/output/\n",
            "Training complete!\n"
          ]
        }
      ]
    },
    {
      "cell_type": "code",
      "source": [
        "import torch\n",
        "import torch.nn as nn\n",
        "import torch.nn.functional as F\n",
        "import numpy as np\n",
        "import math\n",
        "\n",
        "class ThreatDetector(nn.Module):\n",
        "    def __init__(self, latent_dim=64, num_vehicles=5):\n",
        "        super(ThreatDetector, self).__init__()\n",
        "\n",
        "        self.latent_dim = latent_dim\n",
        "        self.num_vehicles = num_vehicles\n",
        "\n",
        "        # Feature extractor\n",
        "        self.feature_extractor = nn.Sequential(\n",
        "            nn.Linear(latent_dim, 128),\n",
        "            nn.LeakyReLU(0.2),\n",
        "            nn.Linear(128, 64),\n",
        "            nn.LeakyReLU(0.2),\n",
        "        )\n",
        "\n",
        "        # Uncertainty estimator (aleatoric uncertainty)\n",
        "        self.uncertainty_estimator = nn.Sequential(\n",
        "            nn.Linear(64, 32),\n",
        "            nn.LeakyReLU(0.2),\n",
        "            nn.Linear(32, 2)  # Mean and log variance for uncertainty\n",
        "        )\n",
        "\n",
        "        # Trust score predictor\n",
        "        self.trust_predictor = nn.Sequential(\n",
        "            nn.Linear(64, 32),\n",
        "            nn.LeakyReLU(0.2),\n",
        "            nn.Linear(32, 1),\n",
        "            nn.Sigmoid()  # Output between 0 and 1 (trust score)\n",
        "        )\n",
        "\n",
        "        # Consensus module for multi-vehicle analysis\n",
        "        self.consensus_module = nn.Sequential(\n",
        "            nn.Linear(num_vehicles, 32),\n",
        "            nn.LeakyReLU(0.2),\n",
        "            nn.Linear(32, num_vehicles),\n",
        "            nn.Softmax(dim=1)  # Weights for each vehicle\n",
        "        )\n",
        "\n",
        "    def forward(self, latent_vectors_list):\n",
        "        \"\"\"\n",
        "        Process latent vectors from multiple vehicles\n",
        "\n",
        "        Args:\n",
        "            latent_vectors_list: List of latent vectors from different vehicles\n",
        "                          Shape: List of [batch_size, latent_dim] tensors\n",
        "        \"\"\"\n",
        "        batch_size = latent_vectors_list[0].shape[0]\n",
        "\n",
        "        # Process latent vectors from each vehicle\n",
        "        features_list = []\n",
        "        uncertainty_list = []\n",
        "        trust_scores = []\n",
        "\n",
        "        for vehicle_latent in latent_vectors_list:\n",
        "            # Extract features\n",
        "            features = self.feature_extractor(vehicle_latent)\n",
        "            features_list.append(features)\n",
        "\n",
        "            # Estimate uncertainty\n",
        "            uncertainty_params = self.uncertainty_estimator(features)\n",
        "            uncertainty_mean, uncertainty_log_var = uncertainty_params.chunk(2, dim=1)\n",
        "            uncertainty_list.append((uncertainty_mean, uncertainty_log_var))\n",
        "\n",
        "            # Calculate trust score\n",
        "            trust_score = self.trust_predictor(features)\n",
        "            trust_scores.append(trust_score)\n",
        "\n",
        "        # Stack trust scores for consensus [batch_size, num_vehicles]\n",
        "        trust_scores_stacked = torch.cat(trust_scores, dim=1)\n",
        "\n",
        "        # Apply consensus to get refined vehicle weights\n",
        "        vehicle_weights = self.consensus_module(trust_scores_stacked)\n",
        "\n",
        "        # Identify potential adversaries (vehicles with low trust)\n",
        "        adversarial_threshold = 0.5\n",
        "        potential_adversaries = (vehicle_weights < adversarial_threshold)\n",
        "\n",
        "        # Apply ROBOSAC-inspired consensus approach\n",
        "        selected_vehicles = torch.zeros_like(potential_adversaries).float()\n",
        "        max_iterations = min(10, self.num_vehicles)\n",
        "\n",
        "        # For each batch item\n",
        "        for b in range(batch_size):\n",
        "            # Get trust scores and adversarial flags for this batch item\n",
        "            batch_trust = trust_scores_stacked[b]\n",
        "            batch_adversarial = potential_adversaries[b]\n",
        "\n",
        "            best_consensus_score = -1\n",
        "            best_selection = None\n",
        "\n",
        "            # Try different random subsets to find best consensus\n",
        "            for _ in range(max_iterations):\n",
        "                # Generate random selection (with higher probability for non-adversarial vehicles)\n",
        "                selection_probs = (~batch_adversarial).float() * 0.8 + 0.2\n",
        "                selection = torch.bernoulli(selection_probs).bool()\n",
        "\n",
        "                # Ensure at least 2 vehicles are selected\n",
        "                if selection.sum() < 2:\n",
        "                    # Select top-2 by trust score\n",
        "                    _, top_indices = torch.topk(batch_trust, k=2)\n",
        "                    selection = torch.zeros_like(selection)\n",
        "                    selection[top_indices] = True\n",
        "\n",
        "                # Calculate consensus score (average trust among selected)\n",
        "                selected_trust = batch_trust[selection]\n",
        "                consensus_score = selected_trust.mean().item()\n",
        "\n",
        "                # Update best selection if better consensus found\n",
        "                if consensus_score > best_consensus_score:\n",
        "                    best_consensus_score = consensus_score\n",
        "                    best_selection = selection\n",
        "\n",
        "            # Use best selection for this batch item\n",
        "            selected_vehicles[b] = best_selection.float()\n",
        "\n",
        "        return {\n",
        "            'trust_scores': trust_scores_stacked,\n",
        "            'vehicle_weights': vehicle_weights,\n",
        "            'selected_vehicles': selected_vehicles,\n",
        "            'uncertainty_estimates': uncertainty_list,\n",
        "            'potential_adversaries': potential_adversaries\n",
        "        }\n",
        "\n",
        "\n",
        "class AdversarialDefenseSystem(nn.Module):\n",
        "    def __init__(self, vae, diffusion, latent_dim=64, num_vehicles=5):\n",
        "        super(AdversarialDefenseSystem, self).__init__()\n",
        "\n",
        "        # Feature compression using VAE\n",
        "        self.vae = vae\n",
        "\n",
        "        # Diffusion model for uncertainty modeling\n",
        "        self.diffusion = diffusion\n",
        "\n",
        "        # Threat detection\n",
        "        self.threat_detector = ThreatDetector(\n",
        "            latent_dim=latent_dim,\n",
        "            num_vehicles=num_vehicles\n",
        "        )\n",
        "\n",
        "        # Feature fusion for final output\n",
        "        self.feature_fusion = nn.Sequential(\n",
        "            nn.Linear(latent_dim, latent_dim),\n",
        "            nn.LeakyReLU(0.2),\n",
        "            nn.Linear(latent_dim, latent_dim)\n",
        "        )\n",
        "\n",
        "        self.latent_dim = latent_dim\n",
        "        self.num_vehicles = num_vehicles\n",
        "\n",
        "    def forward(self, vehicle_images, inference_mode=True):\n",
        "        \"\"\"\n",
        "        Process images from multiple vehicles\n",
        "\n",
        "        Args:\n",
        "            vehicle_images: List of images from different vehicles\n",
        "                           [num_vehicles, batch_size, C, H, W]\n",
        "            inference_mode: If True, don't add diffusion noise (for inference)\n",
        "        \"\"\"\n",
        "        batch_size = vehicle_images[0].shape[0]\n",
        "\n",
        "        # Compress features using VAE for each vehicle\n",
        "        latent_vectors = []\n",
        "        reconstructions = []\n",
        "\n",
        "        with torch.no_grad() if inference_mode else torch.enable_grad():\n",
        "            for vehicle_idx, images in enumerate(vehicle_images):\n",
        "                # Encode images to get latent vectors\n",
        "                recon, mu, log_var, z_sparse = self.vae(images)\n",
        "\n",
        "                # Add to lists\n",
        "                latent_vectors.append(z_sparse)\n",
        "                reconstructions.append(recon)\n",
        "\n",
        "        # Detect threats using latent vectors\n",
        "        threat_results = self.threat_detector(latent_vectors)\n",
        "\n",
        "        # Apply weighted fusion based on threat detection\n",
        "        selected_vehicles = threat_results['selected_vehicles']\n",
        "        fused_features = torch.zeros(batch_size, self.latent_dim).to(vehicle_images[0].device)\n",
        "\n",
        "        # For each item in batch\n",
        "        for b in range(batch_size):\n",
        "            # Get selected vehicles for this batch item\n",
        "            selected = selected_vehicles[b].bool()\n",
        "\n",
        "            # If no vehicle is selected (extreme case), use the ego vehicle\n",
        "            if not selected.any():\n",
        "                selected[0] = True\n",
        "\n",
        "            # Get latent vectors from selected vehicles\n",
        "            selected_latents = []\n",
        "            for v in range(self.num_vehicles):\n",
        "                if selected[v]:\n",
        "                    selected_latents.append(latent_vectors[v][b:b+1])\n",
        "\n",
        "            # Average selected latent vectors\n",
        "            if selected_latents:\n",
        "                selected_avg = torch.cat(selected_latents, dim=0).mean(dim=0, keepdim=True)\n",
        "                fused_features[b:b+1] = selected_avg\n",
        "\n",
        "        # Apply feature fusion network\n",
        "        fused_features = self.feature_fusion(fused_features)\n",
        "\n",
        "        # Decode fused features\n",
        "        with torch.no_grad() if inference_mode else torch.enable_grad():\n",
        "            fused_reconstruction = self.vae.decode(fused_features)\n",
        "\n",
        "        return {\n",
        "            'fused_reconstruction': fused_reconstruction,\n",
        "            'vehicle_reconstructions': reconstructions,\n",
        "            'threat_results': threat_results,\n",
        "            'latent_vectors': latent_vectors,\n",
        "            'fused_features': fused_features\n",
        "        }\n",
        "\n",
        "    def detect_adversarial(self, vehicle_images, threshold=0.5):\n",
        "        \"\"\"\n",
        "        Simple function to detect which vehicles are adversarial\n",
        "\n",
        "        Args:\n",
        "            vehicle_images: List of images from different vehicles\n",
        "            threshold: Trust score threshold below which a vehicle is considered adversarial\n",
        "\n",
        "        Returns:\n",
        "            List of booleans indicating which vehicles are adversarial\n",
        "        \"\"\"\n",
        "        # Forward pass\n",
        "        results = self.forward(vehicle_images, inference_mode=True)\n",
        "\n",
        "        # Get trust scores\n",
        "        trust_scores = results['threat_results']['trust_scores']\n",
        "\n",
        "        # Detect adversarial vehicles (low trust score)\n",
        "        adversarial_vehicles = (trust_scores < threshold).cpu().numpy()\n",
        "\n",
        "        return adversarial_vehicles"
      ],
      "metadata": {
        "id": "xU1FW8I2IEFw"
      },
      "execution_count": 5,
      "outputs": []
    },
    {
      "cell_type": "code",
      "source": [
        "import torch\n",
        "import torch.nn as nn\n",
        "import torch.nn.functional as F\n",
        "import numpy as np\n",
        "import matplotlib.pyplot as plt\n",
        "from torch.utils.data import DataLoader\n",
        "from tqdm import tqdm\n",
        "import time\n",
        "import os\n",
        "from torchvision import transforms\n",
        "\n",
        "# Add any additional imports needed from your modules\n",
        "# from models.feature_compression import FeatureCompressionVAE\n",
        "# from models.diffusion import DiffusionModel\n",
        "# from models.adversarial_defense import AdversarialDefenseSystem\n",
        "# from data.dataset import VehicularPerceptionDataset\n",
        "\n",
        "\n",
        "def apply_random_occlusion(images, occlusion_size=0.3):\n",
        "    \"\"\"Apply random occlusion to images\"\"\"\n",
        "    perturbed = images.clone()\n",
        "    batch_size, c, h, w = images.shape\n",
        "\n",
        "    # Calculate occlusion dimensions\n",
        "    occlude_height = int(h * occlusion_size)\n",
        "    occlude_width = int(w * occlusion_size)\n",
        "\n",
        "    # Apply occlusion to each image\n",
        "    for i in range(batch_size):\n",
        "        # Random position\n",
        "        x = torch.randint(0, w - occlude_width, (1,)).item()\n",
        "        y = torch.randint(0, h - occlude_height, (1,)).item()\n",
        "\n",
        "        # Apply occlusion\n",
        "        perturbed[i, :, y:y+occlude_height, x:x+occlude_width] = 0\n",
        "\n",
        "    return perturbed\n",
        "\n",
        "\n",
        "def generate_fgsm_attack(images, model, epsilon=0.1):\n",
        "    \"\"\"Generate adversarial examples using FGSM\"\"\"\n",
        "    # Create a copy that requires gradient\n",
        "    perturbed_images = images.clone().detach().requires_grad_(True)\n",
        "\n",
        "    # Forward pass\n",
        "    outputs, mu, log_var, _ = model(perturbed_images)\n",
        "\n",
        "    # Calculate loss\n",
        "    loss = F.mse_loss(outputs, images)\n",
        "\n",
        "    # Backward pass\n",
        "    loss.backward()\n",
        "\n",
        "    # Generate perturbation\n",
        "    perturbation = epsilon * perturbed_images.grad.sign()\n",
        "\n",
        "    # Add perturbation\n",
        "    perturbed_images = perturbed_images + perturbation\n",
        "\n",
        "    # Ensure valid range\n",
        "    perturbed_images = torch.clamp(perturbed_images, -1, 1)\n",
        "\n",
        "    return perturbed_images.detach()\n",
        "\n",
        "\n",
        "def visualize_results(results, config):\n",
        "    \"\"\"Visualize evaluation results\"\"\"\n",
        "    # Create figure\n",
        "    plt.figure(figsize=(12, 8))\n",
        "\n",
        "    # Metrics to plot\n",
        "    metrics = ['accuracy', 'false_positive', 'false_negative', 'latency']\n",
        "    titles = ['Detection Accuracy', 'False Positive Rate', 'False Negative Rate', 'Processing Time (ms)']\n",
        "\n",
        "    # Get attack names\n",
        "    attack_names = list(results.keys())\n",
        "\n",
        "    # Plot each metric\n",
        "    for i, (metric, title) in enumerate(zip(metrics, titles)):\n",
        "        plt.subplot(2, 2, i + 1)\n",
        "\n",
        "        # Get values\n",
        "        values = [results[attack][metric] for attack in attack_names]\n",
        "\n",
        "        # Create bar plot\n",
        "        plt.bar(attack_names, values)\n",
        "        plt.title(title)\n",
        "        plt.ylim(0, 1.0 if metric != 'latency' else max(values) * 1.2)\n",
        "        plt.xticks(rotation=45)\n",
        "\n",
        "        # Add value labels\n",
        "        for j, v in enumerate(values):\n",
        "            plt.text(j, v + 0.02, f\"{v:.3f}\", ha='center')\n",
        "\n",
        "    plt.tight_layout()\n",
        "\n",
        "    # Save figure\n",
        "    save_path = os.path.join(config.output_dir, 'evaluation_results.png')\n",
        "    plt.savefig(save_path)\n",
        "    print(f\"Results visualization saved to {save_path}\")\n",
        "    plt.show()\n",
        "\n",
        "\n",
        "def evaluate_defense_system(config):\n",
        "    \"\"\"\n",
        "    Evaluate the adversarial defense system\n",
        "    \"\"\"\n",
        "    # Create dataset\n",
        "    dataset = VehicularPerceptionDataset(\n",
        "        root_dir=config.data_dir,\n",
        "        transform=None,  # No augmentation for evaluation\n",
        "        is_training=False,\n",
        "        num_vehicles=config.num_vehicles,\n",
        "        adversarial_prob=0.0  # We'll add adversarial samples manually\n",
        "    )\n",
        "\n",
        "    # Create dataloader\n",
        "    dataloader = DataLoader(\n",
        "        dataset,\n",
        "        batch_size=config.batch_size,\n",
        "        shuffle=False,\n",
        "        num_workers=config.num_workers\n",
        "    )\n",
        "\n",
        "    # Create models\n",
        "    vae = FeatureCompressionVAE(\n",
        "        input_channels=config.input_channels,\n",
        "        latent_dim=config.latent_dim\n",
        "    ).to(config.device)\n",
        "\n",
        "    diffusion = DiffusionModel(\n",
        "        feature_dim=config.latent_dim,\n",
        "        timesteps=config.diffusion_timesteps\n",
        "    ).to(config.device)\n",
        "\n",
        "    # Load model weights\n",
        "    checkpoint = torch.load(config.model_path, map_location=config.device)\n",
        "    vae.load_state_dict(checkpoint['vae_state_dict'])\n",
        "    diffusion.load_state_dict(checkpoint['diffusion_state_dict'])\n",
        "\n",
        "    # Set models to evaluation mode\n",
        "    vae.eval()\n",
        "    diffusion.eval()\n",
        "\n",
        "    # Create defense system\n",
        "    defense_system = AdversarialDefenseSystem(\n",
        "        vae=vae,\n",
        "        diffusion=diffusion,\n",
        "        latent_dim=config.latent_dim,\n",
        "        num_vehicles=config.num_vehicles\n",
        "    ).to(config.device)\n",
        "\n",
        "    # Metrics\n",
        "    detection_accuracy = 0.0\n",
        "    false_positive_rate = 0.0\n",
        "    false_negative_rate = 0.0\n",
        "    processing_times = []\n",
        "\n",
        "    # Run evaluation for different attack types\n",
        "    attack_types = {\n",
        "        'Random Noise': lambda x: x + torch.randn_like(x) * config.attack_magnitude,\n",
        "        'Targeted Shift': lambda x: x + config.attack_magnitude,\n",
        "        'Random Occlusion': lambda x: apply_random_occlusion(x),\n",
        "        'Adversarial Example': lambda x: generate_fgsm_attack(x, vae)\n",
        "    }\n",
        "\n",
        "    # Results for each attack type\n",
        "    results = {attack: {\n",
        "        'accuracy': 0.0,\n",
        "        'false_positive': 0.0,\n",
        "        'false_negative': 0.0,\n",
        "        'latency': 0.0\n",
        "    } for attack in attack_types}\n",
        "\n",
        "    # For each attack type\n",
        "    for attack_name, attack_function in attack_types.items():\n",
        "        print(f\"\\nEvaluating attack: {attack_name}\")\n",
        "\n",
        "        # Reset metrics\n",
        "        correct_detections = 0\n",
        "        false_positives = 0\n",
        "        false_negatives = 0\n",
        "        total_samples = 0\n",
        "        total_benign = 0\n",
        "        total_adversarial = 0\n",
        "\n",
        "        # Process time\n",
        "        total_time = 0.0\n",
        "\n",
        "        # Process all batches\n",
        "        for batch_idx, batch in enumerate(tqdm(dataloader, desc=f\"Evaluating {attack_name}\")):\n",
        "            # Get vehicle images\n",
        "            if 'vehicle_images' in batch:\n",
        "                vehicle_images = batch['vehicle_images']\n",
        "                batch_size = vehicle_images[0].shape[0]\n",
        "\n",
        "                # Create list for adversarial images - FIX: Initialize empty list first\n",
        "                adversarial_images = []\n",
        "\n",
        "                # Keep track of which vehicles are adversarial\n",
        "                is_adversarial = np.zeros((batch_size, config.num_vehicles), dtype=bool)\n",
        "\n",
        "                # Apply attack to selected vehicles\n",
        "                for v in range(config.num_vehicles):\n",
        "                    if v in config.adversarial_vehicles:\n",
        "                        # Apply attack - move to device first\n",
        "                        original_img = vehicle_images[v].to(config.device)\n",
        "                        perturbed = attack_function(original_img)\n",
        "                        adversarial_images.append(perturbed)\n",
        "\n",
        "                        # Mark as adversarial\n",
        "                        is_adversarial[:, v] = True\n",
        "                    else:\n",
        "                        # Keep original - move to device\n",
        "                        adversarial_images.append(vehicle_images[v].to(config.device))\n",
        "\n",
        "                # Measure processing time\n",
        "                start_time = time.time()\n",
        "\n",
        "                # Run detection\n",
        "                detected_adversarial = defense_system.detect_adversarial(\n",
        "                    adversarial_images,\n",
        "                    threshold=config.adversarial_threshold\n",
        "                )\n",
        "\n",
        "                # Measure time\n",
        "                end_time = time.time()\n",
        "                processing_time = (end_time - start_time) * 1000  # ms\n",
        "\n",
        "                # Update metrics\n",
        "                for b in range(batch_size):\n",
        "                    for v in range(config.num_vehicles):\n",
        "                        # True adversarial status\n",
        "                        true_adversarial = is_adversarial[b, v]\n",
        "\n",
        "                        # Predicted adversarial status\n",
        "                        pred_adversarial = detected_adversarial[b, v]\n",
        "\n",
        "                        # Update counters\n",
        "                        total_samples += 1\n",
        "\n",
        "                        if true_adversarial:\n",
        "                            total_adversarial += 1\n",
        "                            if pred_adversarial:\n",
        "                                correct_detections += 1\n",
        "                            else:\n",
        "                                false_negatives += 1\n",
        "                        else:\n",
        "                            total_benign += 1\n",
        "                            if pred_adversarial:\n",
        "                                false_positives += 1\n",
        "                            else:\n",
        "                                correct_detections += 1\n",
        "\n",
        "                # Update total time\n",
        "                total_time += processing_time\n",
        "\n",
        "            # Limit evaluation to a few batches for quick testing\n",
        "            if config.quick_eval and batch_idx >= 10:\n",
        "                break\n",
        "\n",
        "        # Calculate metrics\n",
        "        accuracy = correct_detections / total_samples if total_samples > 0 else 0\n",
        "        fp_rate = false_positives / total_benign if total_benign > 0 else 0\n",
        "        fn_rate = false_negatives / total_adversarial if total_adversarial > 0 else 0\n",
        "        avg_time = total_time / (batch_idx + 1)\n",
        "\n",
        "        # Store results\n",
        "        results[attack_name]['accuracy'] = accuracy\n",
        "        results[attack_name]['false_positive'] = fp_rate\n",
        "        results[attack_name]['false_negative'] = fn_rate\n",
        "        results[attack_name]['latency'] = avg_time\n",
        "\n",
        "        print(f\"Results for {attack_name}:\")\n",
        "        print(f\"  Accuracy: {accuracy:.4f}\")\n",
        "        print(f\"  False Positive Rate: {fp_rate:.4f}\")\n",
        "        print(f\"  False Negative Rate: {fn_rate:.4f}\")\n",
        "        print(f\"  Average Processing Time: {avg_time:.2f} ms\")\n",
        "\n",
        "    # Visualize results\n",
        "    visualize_results(results, config)\n",
        "\n",
        "    return results\n",
        "\n",
        "\n",
        "def evaluate_system(vae, diffusion, test_dir='/content/drive/MyDrive/CVProject/test/'):\n",
        "    \"\"\"\n",
        "    Evaluate the trained system on test data\n",
        "    \"\"\"\n",
        "    # Create configuration\n",
        "    class EvalConfig:\n",
        "        data_dir = test_dir\n",
        "        batch_size = 4\n",
        "        num_workers = 2\n",
        "        device = torch.device('cuda' if torch.cuda.is_available() else 'cpu')\n",
        "        num_vehicles = 5\n",
        "        adversarial_vehicles = [1, 3]  # Which vehicles to make adversarial\n",
        "        adversarial_magnitude = 0.2\n",
        "        output_dir = '/content/drive/MyDrive/CVProject/output/evaluation/'\n",
        "\n",
        "    config = EvalConfig()\n",
        "    os.makedirs(config.output_dir, exist_ok=True)\n",
        "\n",
        "    # Create evaluation dataset\n",
        "    transform = transforms.Compose([\n",
        "        transforms.Resize((128, 128)),\n",
        "        transforms.ToTensor(),\n",
        "        transforms.Normalize(mean=[0.5, 0.5, 0.5], std=[0.5, 0.5, 0.5])\n",
        "    ])\n",
        "\n",
        "    test_dataset = VehicularPerceptionDataset(\n",
        "        root_dir=config.data_dir,\n",
        "        transform=transform,\n",
        "        is_training=False,\n",
        "        num_vehicles=config.num_vehicles,\n",
        "        adversarial_prob=0.0  # No random adversarial - we'll do it manually\n",
        "    )\n",
        "\n",
        "    test_loader = DataLoader(\n",
        "        test_dataset,\n",
        "        batch_size=config.batch_size,\n",
        "        shuffle=False,\n",
        "        num_workers=config.num_workers\n",
        "    )\n",
        "\n",
        "    # Create the full defense system\n",
        "    # from models.adversarial_defense import AdversarialDefenseSystem, ThreatDetector\n",
        "\n",
        "    # Move models to device\n",
        "    vae = vae.to(config.device)\n",
        "    diffusion = diffusion.to(config.device)\n",
        "\n",
        "    # Create the defense system\n",
        "    defense_system = AdversarialDefenseSystem(\n",
        "        vae=vae,\n",
        "        diffusion=diffusion,\n",
        "        latent_dim=vae.fc_mu.out_features,  # Get latent dim from VAE\n",
        "        num_vehicles=config.num_vehicles\n",
        "    ).to(config.device)\n",
        "\n",
        "    # Set models to evaluation mode\n",
        "    vae.eval()\n",
        "    diffusion.eval()\n",
        "    defense_system.eval()\n",
        "\n",
        "    # Metrics\n",
        "    true_positives = 0\n",
        "    false_positives = 0\n",
        "    true_negatives = 0\n",
        "    false_negatives = 0\n",
        "\n",
        "    # Process test data\n",
        "    for batch_idx, batch in enumerate(tqdm(test_loader, desc=\"Evaluating\")):\n",
        "        if 'vehicle_images' in batch:\n",
        "            # Get vehicle images\n",
        "            vehicle_images = batch['vehicle_images']\n",
        "            batch_size = vehicle_images[0].shape[0]\n",
        "\n",
        "            # Apply adversarial perturbations to selected vehicles\n",
        "            for v_idx in config.adversarial_vehicles:\n",
        "                if v_idx < len(vehicle_images):\n",
        "                    # Apply adversarial perturbation\n",
        "                    vehicle_images[v_idx] = defense_system._apply_adversarial_perturbation(\n",
        "                        vehicle_images[v_idx],\n",
        "                        magnitude=config.adversarial_magnitude\n",
        "                    )\n",
        "\n",
        "            # Move to device\n",
        "            vehicle_images = [img.to(config.device) for img in vehicle_images]\n",
        "\n",
        "            # Detect adversarial vehicles\n",
        "            with torch.no_grad():\n",
        "                results = defense_system.forward(vehicle_images, inference_mode=True)\n",
        "                threat_results = results['threat_results']\n",
        "                trust_scores = threat_results['trust_scores']\n",
        "\n",
        "                # Threshold for adversarial detection\n",
        "                is_adversarial = (trust_scores < 0.5).cpu().numpy()\n",
        "\n",
        "            # Calculate metrics\n",
        "            for v_idx in range(config.num_vehicles):\n",
        "                ground_truth = v_idx in config.adversarial_vehicles\n",
        "\n",
        "                for b in range(batch_size):\n",
        "                    predicted = is_adversarial[b, v_idx]\n",
        "\n",
        "                    if ground_truth and predicted:\n",
        "                        true_positives += 1\n",
        "                    elif ground_truth and not predicted:\n",
        "                        false_negatives += 1\n",
        "                    elif not ground_truth and predicted:\n",
        "                        false_positives += 1\n",
        "                    else:  # not ground_truth and not predicted\n",
        "                        true_negatives += 1\n",
        "\n",
        "            # Visualize results for the first batch\n",
        "            if batch_idx == 0:\n",
        "                fig, axes = plt.subplots(config.num_vehicles, 4, figsize=(16, 4*config.num_vehicles))\n",
        "\n",
        "                for v_idx in range(config.num_vehicles):\n",
        "                    for b in range(min(4, batch_size)):\n",
        "                        # Get the image\n",
        "                        img = vehicle_images[v_idx][b].cpu()\n",
        "\n",
        "                        # Convert from [-1,1] to [0,1] for display\n",
        "                        img = (img + 1) / 2\n",
        "\n",
        "                        # Plot the image\n",
        "                        ax = axes[v_idx, b]\n",
        "                        ax.imshow(img.permute(1, 2, 0))\n",
        "\n",
        "                        # Add title with adversarial status\n",
        "                        is_adv = v_idx in config.adversarial_vehicles\n",
        "                        predicted_adv = is_adversarial[b, v_idx]\n",
        "\n",
        "                        title = f\"V{v_idx}: \"\n",
        "                        title += \"Adv\" if is_adv else \"Clean\"\n",
        "                        title += \" (Detected)\" if predicted_adv else \" (Not Detected)\"\n",
        "\n",
        "                        # Color based on correct/incorrect prediction\n",
        "                        if (is_adv and predicted_adv) or (not is_adv and not predicted_adv):\n",
        "                            # Correct prediction\n",
        "                            ax.set_title(title, color='green')\n",
        "                        else:\n",
        "                            # Incorrect prediction\n",
        "                            ax.set_title(title, color='red')\n",
        "\n",
        "                        ax.axis('off')\n",
        "\n",
        "                plt.tight_layout()\n",
        "                plt.savefig(os.path.join(config.output_dir, 'detection_results.png'))\n",
        "                plt.show()\n",
        "\n",
        "        # Limit to 10 batches for quick evaluation\n",
        "        if batch_idx >= 10:\n",
        "            break\n",
        "\n",
        "    # Calculate metrics\n",
        "    total = true_positives + true_negatives + false_positives + false_negatives\n",
        "    accuracy = (true_positives + true_negatives) / total if total > 0 else 0\n",
        "\n",
        "    precision = true_positives / (true_positives + false_positives) if (true_positives + false_positives) > 0 else 0\n",
        "    recall = true_positives / (true_positives + false_negatives) if (true_positives + false_negatives) > 0 else 0\n",
        "\n",
        "    f1_score = 2 * (precision * recall) / (precision + recall) if (precision + recall) > 0 else 0\n",
        "\n",
        "    print(\"\\nEvaluation Results:\")\n",
        "    print(f\"Accuracy: {accuracy:.4f}\")\n",
        "    print(f\"Precision: {precision:.4f}\")\n",
        "    print(f\"Recall: {recall:.4f}\")\n",
        "    print(f\"F1 Score: {f1_score:.4f}\")\n",
        "\n",
        "    # Create confusion matrix\n",
        "    confusion_matrix = [\n",
        "        [true_negatives, false_positives],\n",
        "        [false_negatives, true_positives]\n",
        "    ]\n",
        "\n",
        "    print(\"\\nConfusion Matrix:\")\n",
        "    print(f\"TN: {true_negatives}, FP: {false_positives}\")\n",
        "    print(f\"FN: {false_negatives}, TP: {true_positives}\")\n",
        "\n",
        "    return {\n",
        "        'accuracy': accuracy,\n",
        "        'precision': precision,\n",
        "        'recall': recall,\n",
        "        'f1_score': f1_score,\n",
        "        'confusion_matrix': confusion_matrix\n",
        "    }\n",
        "\n",
        "\n",
        "if __name__ == \"__main__\":\n",
        "    # Configuration\n",
        "    class Config:\n",
        "        # Paths\n",
        "        data_dir = '/content/drive/MyDrive/CVProject/'\n",
        "        output_dir = '/content/drive/MyDrive/CVProject/output/'\n",
        "        model_path = '/content/drive/MyDrive/CVProject/output/final_model.pt'\n",
        "\n",
        "        # Model parameters\n",
        "        input_channels = 3\n",
        "        latent_dim = 64\n",
        "        num_vehicles = 5\n",
        "        diffusion_timesteps = 100\n",
        "\n",
        "        # Evaluation parameters\n",
        "        batch_size = 8\n",
        "        num_workers = 2\n",
        "        adversarial_vehicles = [1, 3]  # Indices of vehicles to attack\n",
        "        adversarial_threshold = 0.5  # Trust score threshold\n",
        "        attack_magnitude = 0.2  # Magnitude of adversarial perturbation\n",
        "\n",
        "        # Quick evaluation flag (for testing)\n",
        "        quick_eval = True\n",
        "\n",
        "        # Device\n",
        "        device = torch.device('cuda' if torch.cuda.is_available() else 'cpu')\n",
        "\n",
        "    # Create output directory if it doesn't exist\n",
        "    os.makedirs(Config.output_dir, exist_ok=True)\n",
        "\n",
        "    # You need to add your module imports here, before running evaluation\n",
        "    # from models.feature_compression import FeatureCompressionVAE\n",
        "    # from models.diffusion import DiffusionModel\n",
        "    # from models.adversarial_defense import AdversarialDefenseSystem, ThreatDetector\n",
        "    # from data.dataset import VehicularPerceptionDataset\n",
        "\n",
        "    # Run evaluation\n",
        "    results = evaluate_defense_system(Config)"
      ],
      "metadata": {
        "colab": {
          "base_uri": "https://localhost:8080/",
          "height": 1000
        },
        "id": "PUo2zS-CIH8F",
        "outputId": "127f83e3-2b8d-4e02-f6af-ad5b87b7d6b5"
      },
      "execution_count": 6,
      "outputs": [
        {
          "output_type": "stream",
          "name": "stdout",
          "text": [
            "Found 74 images in /content/drive/MyDrive/CVProject/\n",
            "\n",
            "Evaluating attack: Random Noise\n"
          ]
        },
        {
          "output_type": "stream",
          "name": "stderr",
          "text": [
            "Evaluating Random Noise:  10%|█         | 1/10 [00:00<00:06,  1.34it/s]"
          ]
        },
        {
          "output_type": "stream",
          "name": "stdout",
          "text": [
            "Error loading image /content/drive/MyDrive/CVProject/000071_camera1.png: image file is truncated\n"
          ]
        },
        {
          "output_type": "stream",
          "name": "stderr",
          "text": [
            "Evaluating Random Noise: 100%|██████████| 10/10 [00:01<00:00,  5.22it/s]\n"
          ]
        },
        {
          "output_type": "stream",
          "name": "stdout",
          "text": [
            "Results for Random Noise:\n",
            "  Accuracy: 0.5595\n",
            "  False Positive Rate: 0.0856\n",
            "  False Negative Rate: 0.9730\n",
            "  Average Processing Time: 82.77 ms\n",
            "\n",
            "Evaluating attack: Targeted Shift\n"
          ]
        },
        {
          "output_type": "stream",
          "name": "stderr",
          "text": [
            "Evaluating Targeted Shift:  10%|█         | 1/10 [00:00<00:04,  2.10it/s]"
          ]
        },
        {
          "output_type": "stream",
          "name": "stdout",
          "text": [
            "Error loading image /content/drive/MyDrive/CVProject/000071_camera1.png: image file is truncated\n"
          ]
        },
        {
          "output_type": "stream",
          "name": "stderr",
          "text": [
            "Evaluating Targeted Shift: 100%|██████████| 10/10 [00:01<00:00,  5.57it/s]\n"
          ]
        },
        {
          "output_type": "stream",
          "name": "stdout",
          "text": [
            "Results for Targeted Shift:\n",
            "  Accuracy: 0.5649\n",
            "  False Positive Rate: 0.1036\n",
            "  False Negative Rate: 0.9324\n",
            "  Average Processing Time: 68.55 ms\n",
            "\n",
            "Evaluating attack: Random Occlusion\n"
          ]
        },
        {
          "output_type": "stream",
          "name": "stderr",
          "text": [
            "Evaluating Random Occlusion:  20%|██        | 2/10 [00:00<00:02,  2.74it/s]"
          ]
        },
        {
          "output_type": "stream",
          "name": "stdout",
          "text": [
            "Error loading image /content/drive/MyDrive/CVProject/000071_camera1.png: image file is truncated\n"
          ]
        },
        {
          "output_type": "stream",
          "name": "stderr",
          "text": [
            "Evaluating Random Occlusion: 100%|██████████| 10/10 [00:02<00:00,  3.38it/s]\n"
          ]
        },
        {
          "output_type": "stream",
          "name": "stdout",
          "text": [
            "Results for Random Occlusion:\n",
            "  Accuracy: 0.5703\n",
            "  False Positive Rate: 0.1036\n",
            "  False Negative Rate: 0.9189\n",
            "  Average Processing Time: 99.85 ms\n",
            "\n",
            "Evaluating attack: Adversarial Example\n"
          ]
        },
        {
          "output_type": "stream",
          "name": "stderr",
          "text": [
            "Evaluating Adversarial Example:  30%|███       | 3/10 [00:01<00:02,  2.97it/s]"
          ]
        },
        {
          "output_type": "stream",
          "name": "stdout",
          "text": [
            "Error loading image /content/drive/MyDrive/CVProject/000071_camera1.png: image file is truncated\n"
          ]
        },
        {
          "output_type": "stream",
          "name": "stderr",
          "text": [
            "Evaluating Adversarial Example: 100%|██████████| 10/10 [00:02<00:00,  4.25it/s]\n"
          ]
        },
        {
          "output_type": "stream",
          "name": "stdout",
          "text": [
            "Results for Adversarial Example:\n",
            "  Accuracy: 0.5811\n",
            "  False Positive Rate: 0.0766\n",
            "  False Negative Rate: 0.9324\n",
            "  Average Processing Time: 59.77 ms\n",
            "Results visualization saved to /content/drive/MyDrive/CVProject/output/evaluation_results.png\n"
          ]
        },
        {
          "output_type": "display_data",
          "data": {
            "text/plain": [
              "<Figure size 1200x800 with 4 Axes>"
            ],
            "image/png": "[encoded data removed]"
          },
          "metadata": {}
        }
      ]
    }
  ]
}